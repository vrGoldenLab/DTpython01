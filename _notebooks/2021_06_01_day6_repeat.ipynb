{
  "nbformat": 4,
  "nbformat_minor": 0,
  "metadata": {
    "colab": {
      "name": "2021-06-01-day6-repeat.ipynb",
      "private_outputs": true,
      "provenance": [],
      "collapsed_sections": [],
      "toc_visible": true,
      "authorship_tag": "ABX9TyPsavRF/n7um6EkHBr2hEcX",
      "include_colab_link": true
    },
    "kernelspec": {
      "name": "python3",
      "display_name": "Python 3"
    },
    "language_info": {
      "name": "python"
    }
  },
  "cells": [
    {
      "cell_type": "markdown",
      "metadata": {
        "id": "view-in-github",
        "colab_type": "text"
      },
      "source": [
        "<a href=\"https://colab.research.google.com/github/vrGoldenLab/DTpython01/blob/master/_notebooks/2021_06_01_day6_repeat.ipynb\" target=\"_parent\"><img src=\"https://colab.research.google.com/assets/colab-badge.svg\" alt=\"Open In Colab\"/></a>"
      ]
    },
    {
      "cell_type": "markdown",
      "metadata": {
        "id": "zRMexMAKURQR"
      },
      "source": [
        "# 반복문"
      ]
    },
    {
      "cell_type": "markdown",
      "metadata": {
        "id": "maEF36roZyw6"
      },
      "source": [
        "## for"
      ]
    },
    {
      "cell_type": "code",
      "metadata": {
        "id": "IxQaZ72nUPIw"
      },
      "source": [
        "for i in [1,2,3,4,5,8,8]:\n",
        "    print(i)"
      ],
      "execution_count": null,
      "outputs": []
    },
    {
      "cell_type": "code",
      "metadata": {
        "id": "tTNybxekaAqL"
      },
      "source": [
        "for i in 'python':\n",
        "    print(i)"
      ],
      "execution_count": null,
      "outputs": []
    },
    {
      "cell_type": "code",
      "metadata": {
        "id": "R0MPxj_NaJnN"
      },
      "source": [
        "for i in range(1,6):\n",
        "    print(i)\n"
      ],
      "execution_count": null,
      "outputs": []
    },
    {
      "cell_type": "code",
      "metadata": {
        "id": "LZmrOMAmahdq"
      },
      "source": [
        "#range함수\n",
        "for i in range(5):\n",
        "    print(i,end= \" ,\")"
      ],
      "execution_count": null,
      "outputs": []
    },
    {
      "cell_type": "code",
      "metadata": {
        "id": "pszt-RyzatRX"
      },
      "source": [
        "#range함수\n",
        "for i in range(1,6):\n",
        "    print(i,end= \" \")"
      ],
      "execution_count": null,
      "outputs": []
    },
    {
      "cell_type": "code",
      "metadata": {
        "id": "Gq8ERDZsayuF"
      },
      "source": [
        "#range함수\n",
        "for i in range(10,0,-1):\n",
        "    print(i,end= \" \")"
      ],
      "execution_count": null,
      "outputs": []
    },
    {
      "cell_type": "code",
      "metadata": {
        "id": "BMeoGYaJa72X"
      },
      "source": [
        "#range함수-역순 : 오류 시작값은 끝값보다 앞에 위치하여야 한다\n",
        "for i in range(1,10,-1):\n",
        "    print(i,end= \" \")"
      ],
      "execution_count": null,
      "outputs": []
    },
    {
      "cell_type": "code",
      "metadata": {
        "id": "9r5YMNsebH0M"
      },
      "source": [
        "#range함수-역순 : 오류\n",
        "for i in range(10,0,-1):\n",
        "    print(i,end= \" \")"
      ],
      "execution_count": null,
      "outputs": []
    },
    {
      "cell_type": "code",
      "metadata": {
        "id": "MUpGr-DGcf3q"
      },
      "source": [
        "for i in range(100):\n",
        "    print('Hello World!!')"
      ],
      "execution_count": null,
      "outputs": []
    },
    {
      "cell_type": "markdown",
      "metadata": {
        "id": "FpHK-Xnfcvwb"
      },
      "source": [
        "## while\n"
      ]
    },
    {
      "cell_type": "code",
      "metadata": {
        "id": "Wp48W6NAc05N"
      },
      "source": [
        "i = 1\n",
        "while i <= 5:\n",
        "    \n",
        "    print(i,end=' ')\n",
        "    i = i + 1"
      ],
      "execution_count": null,
      "outputs": []
    },
    {
      "cell_type": "code",
      "metadata": {
        "id": "USkvFli4dK07"
      },
      "source": [
        "for i in range(1,6):\n",
        "    print(i,end=' ')\n"
      ],
      "execution_count": null,
      "outputs": []
    },
    {
      "cell_type": "markdown",
      "metadata": {
        "id": "5kU128CEZB99"
      },
      "source": [
        "무한루프일때 `ctrl+ m i`"
      ]
    },
    {
      "cell_type": "code",
      "metadata": {
        "id": "7zuheP1Tdkry"
      },
      "source": [
        "#무한루프 \n",
        "i = 1 \n",
        "while i <= 5: # i값이 계속 1이므로 무한루프\n",
        "    print(i)\n",
        "print('end')\n"
      ],
      "execution_count": null,
      "outputs": []
    },
    {
      "cell_type": "markdown",
      "metadata": {
        "id": "m3YaE5ZsZsQ7"
      },
      "source": [
        "### 예제"
      ]
    },
    {
      "cell_type": "code",
      "metadata": {
        "id": "wTts-HBaZxIB"
      },
      "source": [
        "# q를 입력할 때까지 반복입력\n",
        "name = ' '\n",
        "while name != 'q':\n",
        "    name = input('이름을 입력하세요:')\n",
        "    print(name)\n"
      ],
      "execution_count": null,
      "outputs": []
    },
    {
      "cell_type": "code",
      "metadata": {
        "id": "6dyePCta-mji"
      },
      "source": [
        "# q를 입력할 때까지 반복입력\n",
        "name = ' '\n",
        "while name != '':\n",
        "    name = input('이름을 입력하세요:')\n",
        "    print(name)"
      ],
      "execution_count": null,
      "outputs": []
    },
    {
      "cell_type": "code",
      "metadata": {
        "id": "WUCIgpVR-wrk"
      },
      "source": [
        "num1 = 0\n",
        "sum1 = 0\n",
        "while num1 != 99:\n",
        "    num1 = int(input())\n",
        "    sum1 += num1\n",
        "    print(sum1)"
      ],
      "execution_count": null,
      "outputs": []
    },
    {
      "cell_type": "code",
      "metadata": {
        "id": "kN9o1lW3aWiw"
      },
      "source": [
        "# q를 입력할 때까지 반복입력\n",
        "name = ' '\n",
        "while name != 'q':\n",
        "    name = input('이름을 입력하세요:')\n",
        "    if name != 'q':\n",
        "        print(name)\n"
      ],
      "execution_count": null,
      "outputs": []
    },
    {
      "cell_type": "markdown",
      "metadata": {
        "id": "wcRYAMIUbjm2"
      },
      "source": [
        "##반복문 예제"
      ]
    },
    {
      "cell_type": "markdown",
      "metadata": {
        "id": "a9m6cfZlb7iM"
      },
      "source": [
        "### 예제 1"
      ]
    },
    {
      "cell_type": "code",
      "metadata": {
        "id": "kEyBqS0GbzTW"
      },
      "source": [
        "# 5개의 정수를 입력 받아 합계 출력\n",
        "sum1 = 0\n",
        "for i in range(5):\n",
        "    sum1 += int(input('정수입력:'))\n",
        "print('합계출력:',sum1)"
      ],
      "execution_count": null,
      "outputs": []
    },
    {
      "cell_type": "markdown",
      "metadata": {
        "id": "t9jO2kXredER"
      },
      "source": [
        "### 예제 2"
      ]
    },
    {
      "cell_type": "code",
      "metadata": {
        "id": "MNW4dp--dfWX"
      },
      "source": [
        "# n개의 정수를 입력 받아 n개의 정수를 입력 받아 합계 출력\n",
        "sum1 = 0\n",
        "n = int(input('몇개의 숫자를 더할까요? :'))\n",
        "for i in range(n):\n",
        "    sum1 += int(input('정수입력:'))\n",
        "print('합계출력:',sum1)"
      ],
      "execution_count": null,
      "outputs": []
    },
    {
      "cell_type": "markdown",
      "metadata": {
        "id": "FW9wNNXdekgd"
      },
      "source": [
        "### 예제 3"
      ]
    },
    {
      "cell_type": "code",
      "metadata": {
        "id": "Nk9bWwkyejty"
      },
      "source": [
        "# n개의 정수를 입력 받아 짝수의 합계 구하기\n",
        "sum1 = 0\n",
        "n = int(input('몇개의 숫자를 더할까요? :'))\n",
        "for i in range(n):\n",
        "    num = int(input('정수입력:'))\n",
        "    if num % 2 == 0:\n",
        "        sum1 += num\n",
        "print('합계출력:',sum1)"
      ],
      "execution_count": null,
      "outputs": []
    },
    {
      "cell_type": "code",
      "metadata": {
        "id": "JVvlTIZOFJ1k"
      },
      "source": [
        "sum1 = 0\n",
        "n = int(input('몇개의 숫자를 더할까요? :'))\n",
        "for i in range(n):\n",
        "    num = int(input('정수입력:'))\n",
        "    if num % 3 == 0:\n",
        "        sum1 += num\n",
        "print('합계출력:',sum1)"
      ],
      "execution_count": null,
      "outputs": []
    },
    {
      "cell_type": "code",
      "metadata": {
        "id": "0cnNqQt_La1D"
      },
      "source": [
        "num = 0"
      ],
      "execution_count": null,
      "outputs": []
    },
    {
      "cell_type": "code",
      "metadata": {
        "id": "w78zPl15LVIO"
      },
      "source": [
        "sum1 = 0\n",
        "while num != 0:\n",
        "    num = int(input('숫자:'))\n",
        "    sum1 += num\n",
        "\n",
        "print('합계출력:',sum1)\n"
      ],
      "execution_count": null,
      "outputs": []
    },
    {
      "cell_type": "markdown",
      "metadata": {
        "id": "6mMH-WpMgLX6"
      },
      "source": [
        "### 예제 4"
      ]
    },
    {
      "cell_type": "code",
      "metadata": {
        "id": "TB-ZwutogOIL"
      },
      "source": [
        "# 0이 입력될 때까지 숫자를 입력 받아 합계\n",
        "sum1 = 0\n",
        "\n",
        "while num != 0:\n",
        "    num = int(input('숫자:'))\n",
        "    sum1 += num\n",
        "print('합계출력:',sum1) "
      ],
      "execution_count": null,
      "outputs": []
    },
    {
      "cell_type": "code",
      "metadata": {
        "id": "Jw-XEn7KJO8g"
      },
      "source": [
        "sum1 = 0\n",
        "chk = 1\n",
        "\n",
        "while num1!=0 or chk == 1:\n",
        "    \n",
        "    num1 = int(input(\"숫자: \"))\n",
        "    sum1+=num1\n",
        "    if chk == 1:\n",
        "        chk = 1 + chk\n",
        "print('합계:', sum1)\n"
      ],
      "execution_count": null,
      "outputs": []
    },
    {
      "cell_type": "markdown",
      "metadata": {
        "id": "_q83Qtr4i1iF"
      },
      "source": [
        "# 추가예제"
      ]
    },
    {
      "cell_type": "code",
      "metadata": {
        "id": "XgL2Zq_5hM6O"
      },
      "source": [
        "#1~n까지 더하기\n",
        "\n",
        "sum1 = 0\n",
        "n = int(input('1부터 몇까지 더할까요? :'))\n",
        "for i in range(1,n+1):\n",
        "    sum1 += i\n",
        "    print(i)\n",
        "print(f'1부터 {n}까지 더한 합계는:',sum1)\n"
      ],
      "execution_count": null,
      "outputs": []
    },
    {
      "cell_type": "code",
      "metadata": {
        "id": "Zwi5ishXiLfG"
      },
      "source": [
        "sum1 = 0\n",
        "n = int(input('1부터 몇까지 더할까요? :'))\n",
        "i= 1\n",
        "while i <= n:\n",
        "    sum1 += i\n",
        "    i += 1\n",
        "print(f'1부터 {n}까지 더한 합계는:',sum1)\n"
      ],
      "execution_count": null,
      "outputs": []
    },
    {
      "cell_type": "markdown",
      "metadata": {
        "id": "rZPrjg7HjXnb"
      },
      "source": [
        "### 예제 5"
      ]
    },
    {
      "cell_type": "code",
      "metadata": {
        "id": "qy68zzgKjaQ7"
      },
      "source": [
        "# 숫자 n1,n2를 받아 n1~n2까지의 합계 출력\n",
        "sum1 = 0\n",
        "n1 = int(input('몇부터 더할까요? :'))\n",
        "n2 = int(input('몇까지 더할까요? :'))\n",
        "for i in range(n1,n2+1):\n",
        "    sum1 += i\n",
        "    print(i)\n",
        "print(f'{n1}부터 {n2}까지 더한 합계는:',sum1)\n"
      ],
      "execution_count": null,
      "outputs": []
    },
    {
      "cell_type": "markdown",
      "metadata": {
        "id": "vEt7VvL-kXmF"
      },
      "source": [
        "### 예제 6"
      ]
    },
    {
      "cell_type": "code",
      "metadata": {
        "id": "P9Oy5QJIkcEu"
      },
      "source": [
        "#임의의 개수 숫자의 평균 \n",
        "n = int(input('입력받을 정수의 개수:'))\n",
        "sum1=0\n",
        "\n",
        "for i in range(n):\n",
        "    num = int(input('정수:'))\n",
        "    sum1 += num\n",
        "\n",
        "    \n",
        "if n == 0:\n",
        "    print('0개의 정수를 입력하셨습니다')\n",
        "else:\n",
        "    print('평균:', sum1/n)\n"
      ],
      "execution_count": null,
      "outputs": []
    },
    {
      "cell_type": "markdown",
      "metadata": {
        "id": "viILkFdzohZ8"
      },
      "source": [
        "### 예제 7"
      ]
    },
    {
      "cell_type": "code",
      "metadata": {
        "id": "tCFgbqcJogpc"
      },
      "source": [
        "# 정수 n을 입력받아 n!을 계산하는 프로그램 작성\n",
        "# n! = n * (n - 1) * (n - 2) * ...*1\n",
        "n = int(input('몇 팩토리얼? :'))\n",
        "sum1=1\n",
        "for i in range(n,0,-1):\n",
        "    sum1 *= i\n",
        "    # print(i,sum1)\n",
        "\n",
        "print(f'{n}! = {sum1}')"
      ],
      "execution_count": null,
      "outputs": []
    },
    {
      "cell_type": "markdown",
      "metadata": {
        "id": "56nlvi4krIvx"
      },
      "source": [
        "### 예제 8"
      ]
    },
    {
      "cell_type": "code",
      "metadata": {
        "id": "x3OnZXOGrJIo"
      },
      "source": [
        "# 구구단 \n",
        "n = int(input('구구단 몇단을 출력할까요? :'))\n",
        "for i in range(1,10):\n",
        "    print(f'  {n} * {i} = {n*i}')"
      ],
      "execution_count": null,
      "outputs": []
    },
    {
      "cell_type": "markdown",
      "metadata": {
        "id": "mlR8w1uHsyKV"
      },
      "source": [
        "### 중첩반복구조\n"
      ]
    },
    {
      "cell_type": "code",
      "metadata": {
        "id": "Lv5cart-s6Ml"
      },
      "source": [
        "for i in range (3):\n",
        "    for j in range(5):\n",
        "        print(i,j,i*j)"
      ],
      "execution_count": null,
      "outputs": []
    },
    {
      "cell_type": "code",
      "metadata": {
        "id": "NaSITmarte2v"
      },
      "source": [
        "# 구구단 가로 출력\n",
        "for i in range(2,10):\n",
        "    for j in range(1,10):\n",
        "        print(f' {i} * {j} = {i*j}',end='\\t')\n",
        "    print()"
      ],
      "execution_count": null,
      "outputs": []
    },
    {
      "cell_type": "code",
      "metadata": {
        "id": "R9WOR5uwuFAd"
      },
      "source": [
        "# 구구단 세로 출력\n",
        "for i in range(1,10):\n",
        "    for j in range(2,10):\n",
        "        print(f' {j} * {i} = {i*j}',end='\\t')\n",
        "    print()"
      ],
      "execution_count": null,
      "outputs": []
    },
    {
      "cell_type": "markdown",
      "metadata": {
        "id": "ftNsb-9eurty"
      },
      "source": [
        "### break \n",
        "* 반복에서 벗어나기\n"
      ]
    },
    {
      "cell_type": "code",
      "metadata": {
        "id": "GP_91txKuyTM"
      },
      "source": [
        "#문장에서 헤당 문자를 찾으면 반복을 종료 한다\n",
        "t = 'I have a dream'\n",
        "cnt = 0\n",
        "letter =input('찾을 문자:')\n",
        "for i in t:\n",
        "    print(i,end=\" \")\n",
        "    if i == letter: \n",
        "        break"
      ],
      "execution_count": null,
      "outputs": []
    },
    {
      "cell_type": "code",
      "metadata": {
        "id": "N8VbDW8pwCt8"
      },
      "source": [
        "#문장에서 해당 문자 두번째를 찾으면 반복을 종료 한다\n",
        "t = 'I have a dream'\n",
        "cnt = 0\n",
        "letter =input('찾을 문자:')\n",
        "for i in t:\n",
        "    print(i,end=\" \")\n",
        "    if i == letter: \n",
        "        # print(i,cnt,'*')\n",
        "        if cnt == 0:\n",
        "            cnt += 1\n",
        "        else:\n",
        "            break"
      ],
      "execution_count": null,
      "outputs": []
    },
    {
      "cell_type": "code",
      "metadata": {
        "id": "WEuvZ32Nwe47"
      },
      "source": [
        "#문장에서 해당 문자 세번째를 찾으면 반복을 종료 한다\n",
        "t = 'I have a dream'\n",
        "cnt = 3  # 해당 문자 세번째 count\n",
        "num_cnt = 0\n",
        "letter =input('찾을 문자:')\n",
        "for i in t:\n",
        "    print(i,end=\" \")\n",
        "    if i == letter:\n",
        "        num_cnt +=1 \n",
        "        # print(i,cnt,num_cnt)\n",
        "        if num_cnt == cnt:\n",
        "            break\n",
        "        \n",
        "            "
      ],
      "execution_count": null,
      "outputs": []
    },
    {
      "cell_type": "markdown",
      "metadata": {
        "id": "jSyvdpu6zQb4"
      },
      "source": [
        "# up&down 게임\n",
        "1. 1~100 까지 임의의 수를 정하고\n",
        "2. 정답을 맞출때까지 숫자를 입력한다\n",
        "    * 내가 입력한 숫자가 정답보다 작으면 'Down' 출력\n",
        "    * 내가 입력한 숫자가 정답보다 크면 'Up' 출력\n",
        "3. '정답'이라고 출력 후 종료"
      ]
    },
    {
      "cell_type": "code",
      "metadata": {
        "id": "VT2oWe_Cz_fl"
      },
      "source": [
        "import random \n",
        "r_answer = random.randint(1,100)\n",
        "m_answer = int(input('예상숫자:'))\n",
        "while r_answer != m_answer:\n",
        "    if r_answer < m_answer:\n",
        "        print('Down')\n",
        "    else:\n",
        "        print('Up')\n",
        "    m_answer = int(input('예상숫자:'))\n",
        "print('정답')"
      ],
      "execution_count": null,
      "outputs": []
    }
  ]
}