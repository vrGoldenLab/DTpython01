{
  "nbformat": 4,
  "nbformat_minor": 0,
  "metadata": {
    "colab": {
      "name": "2021-05-31-day5-if.ipynb",
      "private_outputs": true,
      "provenance": [],
      "collapsed_sections": [],
      "toc_visible": true,
      "authorship_tag": "ABX9TyPvx+QuzW6I8cKWj7WhlDHW",
      "include_colab_link": true
    },
    "kernelspec": {
      "name": "python3",
      "display_name": "Python 3"
    },
    "language_info": {
      "name": "python"
    }
  },
  "cells": [
    {
      "cell_type": "markdown",
      "metadata": {
        "id": "view-in-github",
        "colab_type": "text"
      },
      "source": [
        "<a href=\"https://colab.research.google.com/github/vrGoldenLab/DTpython01/blob/master/_notebooks/2021_05_31_day5_if.ipynb\" target=\"_parent\"><img src=\"https://colab.research.google.com/assets/colab-badge.svg\" alt=\"Open In Colab\"/></a>"
      ]
    },
    {
      "cell_type": "markdown",
      "metadata": {
        "id": "VkaKBihU7l0Y"
      },
      "source": [
        "#  조건문"
      ]
    },
    {
      "cell_type": "markdown",
      "metadata": {
        "id": "EYd9n0HO7s4K"
      },
      "source": [
        "## if 조건문\n",
        "* `특정 조건`일 때 코드를 실행하는 문법합니다.\n",
        "* 다양한 상황에 대처할 때 사용합니다.  \n",
        "\n",
        "```\n",
        "if 조건:   \n",
        "    작업1    \n",
        "```"
      ]
    },
    {
      "cell_type": "markdown",
      "metadata": {
        "id": "TUzSCVWVobai"
      },
      "source": [
        "### if"
      ]
    },
    {
      "cell_type": "code",
      "metadata": {
        "id": "reYjIcph79Jy"
      },
      "source": [
        "a = 1\n",
        "if a < 0:\n",
        "    print('a는 0보다 작다')\n",
        "    print('a는 음수')\n",
        "print('끝')"
      ],
      "execution_count": null,
      "outputs": []
    },
    {
      "cell_type": "code",
      "metadata": {
        "id": "7umA2MeRnYg7"
      },
      "source": [
        "a = 1\n",
        "if a < 0:\n",
        "    print('a는 0보다 작다')\n",
        "print('a는 음수')\n",
        "print('끝')"
      ],
      "execution_count": null,
      "outputs": []
    },
    {
      "cell_type": "code",
      "metadata": {
        "id": "N1yBBVXRoAil"
      },
      "source": [
        "temp = float(input('체온:'))\n",
        "if temp > 37.5 :\n",
        "    print('등교불가')"
      ],
      "execution_count": null,
      "outputs": []
    },
    {
      "cell_type": "code",
      "metadata": {
        "id": "zcWZZF8aRdDO"
      },
      "source": [
        "a = 5\n",
        "b = 4\n",
        "if a % b == 0:\n",
        "   print(f'{a}는 {b}로 나누어 떨어집니다')\n",
        "else:\n",
        "    print(f'{a}는 {b}로 나머지가 {a % b} 입니다')\n",
        "   "
      ],
      "execution_count": null,
      "outputs": []
    },
    {
      "cell_type": "markdown",
      "metadata": {
        "id": "czMdUav27mRH"
      },
      "source": [
        "### if..else"
      ]
    },
    {
      "cell_type": "markdown",
      "metadata": {
        "id": "zjiYs1NDpdNv"
      },
      "source": [
        "```\n",
        "# if ..else\n",
        "if 조건:   \n",
        "        작업1     \n",
        "else:      \n",
        "        작업2   \n",
        "\n",
        "```"
      ]
    },
    {
      "cell_type": "code",
      "metadata": {
        "id": "HNxBYeHnpqXG"
      },
      "source": [
        "temp = float(input('체온:'))\n",
        "if temp > 37.5 :\n",
        "    print('등교불가')\n",
        "else:\n",
        "    print('등교')"
      ],
      "execution_count": null,
      "outputs": []
    },
    {
      "cell_type": "markdown",
      "metadata": {
        "id": "eLk1Gx5j7rsG"
      },
      "source": [
        "### if.. elif"
      ]
    },
    {
      "cell_type": "markdown",
      "metadata": {
        "id": "aatBUdVypk0z"
      },
      "source": [
        "```\n",
        "# if elif \n",
        "if 조건:   \n",
        "        작업1     \n",
        "elif 조건:      \n",
        "        작업2\n",
        "elif 조건:  \n",
        "        작업3\n",
        "else:  \n",
        "        작업4\n",
        "```"
      ]
    },
    {
      "cell_type": "markdown",
      "metadata": {
        "id": "hBSnQtIFtLLa"
      },
      "source": [
        "### 예제\n"
      ]
    },
    {
      "cell_type": "markdown",
      "metadata": {
        "id": "ud-ji4Lv7-bD"
      },
      "source": [
        "####예제1"
      ]
    },
    {
      "cell_type": "code",
      "metadata": {
        "id": "Hl848CrXqGoM"
      },
      "source": [
        "# 예제 \n",
        "temp = int(input('체온:'))\n",
        "chk1 = input('코로나 검사를 받고 결과를 기다리고 있나요?(y/n):')\n",
        "chk2 = input('자가격리중인가요?(y/n):')\n",
        "if temp > 37.5:\n",
        "    print('발열기준 초과: 등교불가')\n",
        "elif chk1 == 'y' or 'Y':\n",
        "    print('검사대기중 등교불가')\n",
        "elif chk2 == 'y' or 'Y':\n",
        "    print('자가격리중 등교불가')\n",
        "else:\n",
        "    print('등교가능')"
      ],
      "execution_count": null,
      "outputs": []
    },
    {
      "cell_type": "markdown",
      "metadata": {
        "id": "371HsCh88B4F"
      },
      "source": [
        "#### 예제2"
      ]
    },
    {
      "cell_type": "code",
      "metadata": {
        "id": "h-twrZeOtGxr"
      },
      "source": [
        "# 점수처리\n",
        "grade = ' '\n",
        "score = int(input('점수를 입력하세요'))\n",
        "if score >= 90:\n",
        "    grade = 'A'\n",
        "elif score >= 80:\n",
        "    grade = 'B'\n",
        "elif score >= 70:\n",
        "    grade = 'C'\n",
        "elif score >= 60:\n",
        "    grade = 'D'   \n",
        "else:\n",
        "    grade = 'F'   \n",
        "print(f'등급: {grade}')"
      ],
      "execution_count": null,
      "outputs": []
    },
    {
      "cell_type": "markdown",
      "metadata": {
        "id": "v2WEqQYU8GGA"
      },
      "source": [
        "#### 예제3"
      ]
    },
    {
      "cell_type": "code",
      "metadata": {
        "id": "iZbdzCQ4urEr"
      },
      "source": [
        "#금액 할인율\n",
        "#현재셀에서 바꾸기 shift + ctrl + h\n",
        "buy = 0\n",
        "buy = int(input('물건 구매가를 입력하세요:'))\n",
        "if buy >= 100000:\n",
        "    dc = 10\n",
        "elif buy >= 50000:\n",
        "    dc = 7.5\n",
        "elif buy >= 10000:\n",
        "    dc = 5\n",
        "else :\n",
        "    dc = 0           \n",
        "\n",
        "print(f'구매가:{buy}원')\n",
        "print(f'할인율:{dc}%')\n",
        "print(f'할인금액:{int(buy*dc/100)}원')\n",
        "print(f'지불금액:{int(buy-(buy*dc/100))}원')\n"
      ],
      "execution_count": null,
      "outputs": []
    },
    {
      "cell_type": "markdown",
      "metadata": {
        "id": "sfiAZJuM8I4N"
      },
      "source": [
        "#### 예제4 "
      ]
    },
    {
      "cell_type": "code",
      "metadata": {
        "id": "QXEDwR3Kzfl7"
      },
      "source": [
        "# 최소값 구하기 - 3개 숫자 입력 후 가장 작은 수 출력 \n",
        "\n",
        "n1 = int(input('숫자 1:'))\n",
        "n2 = int(input('숫자 2:'))\n",
        "n3 = int(input('숫자 3:'))\n",
        "\n",
        "min1= n1                 # 첫번째 수 저장\n",
        "if n2 < min1:            # 두번째와 비교\n",
        "    min1 = n2            # 두번째수가 작으면 min1 저장\n",
        "\n",
        "if n3 < min1:            # 세번째 수 비교\n",
        "    min1 = n3            # 세번째 수가 작으면 min1 저장\n",
        "print('가장 작은 수:', min1)"
      ],
      "execution_count": null,
      "outputs": []
    },
    {
      "cell_type": "code",
      "metadata": {
        "id": "-m-nCDsM0uEv"
      },
      "source": [
        "# 최소값 구하기 - 3개 숫자 입력 후 가장 작은 수 출력 \n",
        "\n",
        "n1 = int(input('숫자 1:'))\n",
        "n2 = int(input('숫자 2:'))\n",
        "n3 = int(input('숫자 3:'))\n",
        "# 모든 값을 비교해야 합니다. if else,if elif를 사용하면 다른 값이 선택됩니다 (3,2,1 입력 후 테스트)\n",
        "min1 = n1 \n",
        "if n2 < min1: # 두번째 수가 작으면 이후 비교 불가\n",
        "    min = n2 \n",
        "elif n3 < min1:\n",
        "    min1 = n3\n",
        "print('가장 작은 수:', min1)"
      ],
      "execution_count": null,
      "outputs": []
    },
    {
      "cell_type": "code",
      "metadata": {
        "id": "Y0bUDPbY3AgS"
      },
      "source": [
        "# 최소값 구하기 - 3개 숫자 입력 후 가장 작은 수 출력 \n",
        "\n",
        "n1 = int(input('숫자 1:'))\n",
        "n2 = int(input('숫자 2:'))\n",
        "n3 = int(input('숫자 3:'))\n",
        "\n",
        "print(f'가장 작은 수:{min(n1,n2,n3)}')"
      ],
      "execution_count": null,
      "outputs": []
    },
    {
      "cell_type": "markdown",
      "metadata": {
        "id": "oqJMS04N7YF2"
      },
      "source": [
        "### 논리연산자 "
      ]
    },
    {
      "cell_type": "markdown",
      "metadata": {
        "id": "ccIc-FgV8jQc"
      },
      "source": [
        "and : 논리곱\n",
        "or : 논리합\n",
        "not : 논리부정\n",
        "\n",
        "논리 값을 판단해주는 연산자 입니다."
      ]
    },
    {
      "cell_type": "code",
      "metadata": {
        "id": "p6cvLSjH9E1X"
      },
      "source": [
        "# 논리 연산자(Logical operator)\n",
        "# and, or, not\n",
        "print(True and True)\n",
        "print(True and False)\n",
        "print(False and True)\n",
        "print(False and False)\n",
        "print()\n",
        "print(True or True)\n",
        "print(True or False)\n",
        "print(False or True)\n",
        "print(False or False)\n",
        "print()\n",
        "print(not True)\n",
        "print(not False)"
      ],
      "execution_count": null,
      "outputs": []
    },
    {
      "cell_type": "markdown",
      "metadata": {
        "id": "vFFFQDPC9pz5"
      },
      "source": [
        "### 예제"
      ]
    },
    {
      "cell_type": "markdown",
      "metadata": {
        "id": "cJlIdlAv_26V"
      },
      "source": [
        "#### 예제1"
      ]
    },
    {
      "cell_type": "code",
      "metadata": {
        "id": "mzyIJ0T2-LIE"
      },
      "source": [
        "#입장료 계산\n",
        "age = int(input('나이를 입력하세요:'))\n",
        "price = 3000\n",
        "if age > 64 or <= 7:\n",
        "    price = 0\n",
        "elif age >= 8 and <= 18:\n",
        "    price =1000\n",
        "print(f'{price}원 입니다')"
      ],
      "execution_count": null,
      "outputs": []
    },
    {
      "cell_type": "code",
      "metadata": {
        "id": "zKXAWgq8yU5f"
      },
      "source": [
        "#입장료 계산\n",
        "age = int(input('나이를 입력하세요:'))\n",
        "price = '3000원'\n",
        "if age > 64 or age <= 7:\n",
        "    price = '무료'\n",
        "elif age >= 8 and age <= 18:\n",
        "    price = '1000원'\n",
        "print(f'{price} 입니다')"
      ],
      "execution_count": null,
      "outputs": []
    },
    {
      "cell_type": "markdown",
      "metadata": {
        "id": "HeYwFmNv_42K"
      },
      "source": [
        "####예제2"
      ]
    },
    {
      "cell_type": "code",
      "metadata": {
        "id": "IFbObXjdBKhD"
      },
      "source": [
        "# 로그인\n",
        "user_id = 'ID1234'\n",
        "user_pwd = 'PWD1234'\n",
        "# 아이디 패스워드 입력\n",
        "input_id = input('아이디:')\n",
        "input_pwd = input('패스워드:')\n",
        "#로그인 처리\n",
        "if user_id == input_id and user_pwd == input_pwd:\n",
        "    print('로그인 성공')\n",
        "else:\n",
        "    print('로그인 실패')"
      ],
      "execution_count": null,
      "outputs": []
    },
    {
      "cell_type": "markdown",
      "metadata": {
        "id": "D3gCw_Q2AT1W"
      },
      "source": [
        "#### 예제3"
      ]
    },
    {
      "cell_type": "code",
      "metadata": {
        "id": "YQpeGrWvDZww"
      },
      "source": [
        "# 입력\n",
        "num1 = int(input('숫자1: '))\n",
        "num2 = int(input('숫자2: '))\n",
        "operator = input('연산기호(+,-,*,/) : ')\n",
        "result= 0\n",
        "# 처리 \n",
        "if operator == '+':\n",
        "    result = num1 + num2\n",
        "elif operator == '-':\n",
        "    result = num1 - num2\n",
        "elif operator == '*':\n",
        "    result = num1 * num2\n",
        "elif operator == '/':\n",
        "    result = num1 / num2\n",
        "# 출력\n",
        "print('-'*30)\n",
        "print(f'{num1} {operator} {num2} = {result}')"
      ],
      "execution_count": null,
      "outputs": []
    },
    {
      "cell_type": "code",
      "metadata": {
        "id": "Cvdy-3YDE8zw"
      },
      "source": [
        "# 입력\n",
        "num1 = int(input('숫자1: '))\n",
        "num2 = int(input('숫자2: '))\n",
        "operator = input('연산기호(+,-,*,/) : ')\n",
        "result= 0\n",
        "# 처리 \n",
        "if operator == '+':\n",
        "    result = num1 + num2\n",
        "elif operator == '-':\n",
        "    result = num1 - num2\n",
        "elif operator == '*':\n",
        "    result = num1 * num2\n",
        "elif operator == '/':\n",
        "    if num2 != 0:\n",
        "        result = num1 / num2\n",
        "    else:\n",
        "        result = None\n",
        "# 출력\n",
        "print('-'*30)\n",
        "print(f'{num1} {operator} {num2} = {result}')"
      ],
      "execution_count": null,
      "outputs": []
    },
    {
      "cell_type": "code",
      "metadata": {
        "id": "KC813iuyFc_r"
      },
      "source": [
        "# 입력\n",
        "num1 = int(input('숫자1: '))\n",
        "num2 = int(input('숫자2: '))\n",
        "operator = input('연산기호(+,-,*,/) : ')\n",
        "result= 0\n",
        "# 처리 \n",
        "if operator == '+':\n",
        "    result = num1 + num2\n",
        "elif operator == '-':\n",
        "    result = num1 - num2\n",
        "elif operator == '*':\n",
        "    result = num1 * num2\n",
        "elif operator == '/':\n",
        "    if num2 != 0:\n",
        "        result = num1 / num2\n",
        "    \n",
        "# 출력\n",
        "print('-'*30)\n",
        "if operator == '/' and  num2 == 0:\n",
        "    print('0으로 나눌 수 없습니다')\n",
        "else: \n",
        "    print(f'{num1} {operator} {num2} = {result}')"
      ],
      "execution_count": null,
      "outputs": []
    },
    {
      "cell_type": "code",
      "metadata": {
        "id": "jhumTcNQM6fj"
      },
      "source": [
        "for i in range(3):\n",
        "    num1 = int(input('숫자1: '))\n",
        "    num2 = int(input('숫자2: '))\n",
        "    operator = input('연산기호(+,-,*,/) : ')\n",
        "    result= 0\n",
        "    # 처리 \n",
        "    if operator == '+':\n",
        "        result = num1 + num2\n",
        "    elif operator == '-':\n",
        "        result = num1 - num2\n",
        "    elif operator == '*':\n",
        "       result = num1 * num2\n",
        "    elif operator == '/':\n",
        "        if num2 != 0:\n",
        "            result = num1 / num2\n",
        "    \n",
        "    # 출력\n",
        "    print('-'*30)\n",
        "    if operator == '/' and  num2 == 0:\n",
        "       print('0으로 나눌 수 없습니다')\n",
        "    else: \n",
        "       print(f'{num1} {operator} {num2} = {result}')\n"
      ],
      "execution_count": null,
      "outputs": []
    },
    {
      "cell_type": "markdown",
      "metadata": {
        "id": "Gauw3DdgNYtX"
      },
      "source": [
        "#### 예제 4"
      ]
    },
    {
      "cell_type": "code",
      "metadata": {
        "id": "LWO8FcfUNXIj"
      },
      "source": [
        "import random\n",
        "random.randint(1,6)"
      ],
      "execution_count": null,
      "outputs": []
    },
    {
      "cell_type": "code",
      "metadata": {
        "id": "HUrhBR8_OIQ4"
      },
      "source": [
        "#주사위 게임\n",
        "import random\n",
        "num1 = random.randint(1,6)\n",
        "print('주사위1:',num1)\n",
        "num2 = random.randint(1,6)\n",
        "print('주사위2:',num2)\n",
        "if num1 > num2:\n",
        "    print('주사위1이 이겼습니다')\n",
        "elif num1 < num2:\n",
        "    print('주사위2이 이겼습니다')\n",
        "else:\n",
        "    print('비겼습니다')"
      ],
      "execution_count": null,
      "outputs": []
    }
  ]
}