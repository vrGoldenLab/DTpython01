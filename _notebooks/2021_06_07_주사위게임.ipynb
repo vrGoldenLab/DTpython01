{
  "nbformat": 4,
  "nbformat_minor": 0,
  "metadata": {
    "colab": {
      "name": "2021-06-07-주사위게임.ipynb",
      "private_outputs": true,
      "provenance": [],
      "authorship_tag": "ABX9TyN5zxELb///RTbjOi58q+l5",
      "include_colab_link": true
    },
    "kernelspec": {
      "name": "python3",
      "display_name": "Python 3"
    },
    "language_info": {
      "name": "python"
    }
  },
  "cells": [
    {
      "cell_type": "markdown",
      "metadata": {
        "id": "view-in-github",
        "colab_type": "text"
      },
      "source": [
        "<a href=\"https://colab.research.google.com/github/vrGoldenLab/DTpython01/blob/master/2021_06_07_%EC%A3%BC%EC%82%AC%EC%9C%84%EA%B2%8C%EC%9E%84.ipynb\" target=\"_parent\"><img src=\"https://colab.research.google.com/assets/colab-badge.svg\" alt=\"Open In Colab\"/></a>"
      ]
    },
    {
      "cell_type": "markdown",
      "metadata": {
        "id": "o3V0vJwKbrIE"
      },
      "source": [
        "# 주사위 게임"
      ]
    },
    {
      "cell_type": "code",
      "metadata": {
        "id": "td58xoCnugaj"
      },
      "source": [
        "# 프로그램 구성 \n",
        "import random\n",
        "# 초기 변수값 - 내 주사위 위치 ,컴퓨터 주사위 위치\n",
        "\n",
        "# 주사위말 함수 - 30까지 주사위 위치 표현\n",
        "\n",
        "# 시작시 출력화면 구성 - 게임 스타트\n",
        "\n",
        "while True:\n",
        "    input(\"Enter를 누르면 여러분의 말이 움직입니다\")\n",
        "    # 내 주사위수 계산 ,승패 체크\n",
        "    input(\"Enter를 누르면 컴퓨터의 말이 움직입니다\")\n",
        "    # 컴푸터 주사위 수 계산,승패 체크"
      ],
      "execution_count": null,
      "outputs": []
    },
    {
      "cell_type": "code",
      "metadata": {
        "id": "pLW_DYeStgGs"
      },
      "source": [
        "# step1 함수 구성 \n",
        "import random\n",
        "pl_pos = 1\n",
        "com_pos = 1\n",
        "\n",
        "def board():\n",
        "    print(\"-\" * (pl_pos - 1) + \"Ｐ\" + \"-\" * (30 - pl_pos) + \"Goal\")\n",
        "    print(\"-\" * (com_pos - 1) + \"Ｃ\" + \"-\" * (30 - com_pos) + \"Goal\")\n",
        "\n",
        "board()\n",
        "print(\"주사위 게임, 스타트!\")"
      ],
      "execution_count": null,
      "outputs": []
    },
    {
      "cell_type": "code",
      "metadata": {
        "id": "eYkjOChKkiBV"
      },
      "source": [
        "import random\n",
        "pl_pos = 1\n",
        "com_pos = 1\n",
        "\n",
        "def board():\n",
        "    print(\"-\" * (pl_pos - 1) + \"Ｐ\" + \"-\" * (30 - pl_pos) + \"Goal\")\n",
        "    print(\"-\" * (com_pos - 1) + \"Ｃ\" + \"-\" * (30 - com_pos) + \"Goal\")\n",
        "\n",
        "board()\n",
        "print(\"주사위 게임, 스타트!\")\n",
        "while True:\n",
        "    input(\"Enter를 누르면 여러분의 말이 움직입니다\")\n",
        "    pl_pos = pl_pos + random.randint(1, 6)\n",
        "    if pl_pos > 30:\n",
        "        pl_pos = 30\n",
        "    board()\n",
        "    if pl_pos == 30:\n",
        "        print(\"당신이 승리했습니다！\")\n",
        "        break\n",
        "    input(\"Enter를 누르면 컴퓨터의 말이 움직입니다\")\n",
        "    com_pos = com_pos + random.randint(1, 6)\n",
        "    if com_pos > 30:\n",
        "        com_pos = 30\n",
        "    board()\n",
        "    if com_pos == 30:\n",
        "        print(\"컴퓨터가 승리했습니다!\")\n",
        "        break"
      ],
      "execution_count": null,
      "outputs": []
    }
  ]
}
