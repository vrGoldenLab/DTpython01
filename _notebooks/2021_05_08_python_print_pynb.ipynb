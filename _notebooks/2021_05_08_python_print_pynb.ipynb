{
  "nbformat": 4,
  "nbformat_minor": 0,
  "metadata": {
    "colab": {
      "name": "2021-05-08-python-print.pynb",
      "private_outputs": true,
      "provenance": [],
      "collapsed_sections": [],
      "toc_visible": true,
      "authorship_tag": "ABX9TyM5m25TDtTLiLkiYqNgUjKl",
      "include_colab_link": true
    },
    "kernelspec": {
      "name": "python3",
      "display_name": "Python 3"
    },
    "language_info": {
      "name": "python"
    }
  },
  "cells": [
    {
      "cell_type": "markdown",
      "metadata": {
        "id": "view-in-github",
        "colab_type": "text"
      },
      "source": [
        "<a href=\"https://colab.research.google.com/github/vrGoldenLab/DTpython/blob/master/2021_05_08_python_print_pynb.ipynb\" target=\"_parent\"><img src=\"https://colab.research.google.com/assets/colab-badge.svg\" alt=\"Open In Colab\"/></a>"
      ]
    },
    {
      "cell_type": "markdown",
      "metadata": {
        "id": "ntleyBQvKLm6"
      },
      "source": [
        "##### **함수로서의 print()**\n",
        "\n",
        "파이썬 내부의 정보를 출력창에 출력하는 역할을 합니다.\n",
        "\n",
        "연산은 제대로 되었는지, 입력된 값은 오류가 없는지 원했던 결과가 나왔는지 매순간 확인할 수 있습니다. \n",
        "\n",
        "수업을 진행하기 앞서서 print()를 사용하는 방법을 알아 보겠습니다.\n"
      ]
    },
    {
      "cell_type": "markdown",
      "metadata": {
        "id": "gJfdukU3ipib"
      },
      "source": [
        "**함수 - 여러작업을 하나로 묶어 이름을 붙여 둔 표준화된 프로세스**\n",
        "\n",
        "---\n",
        "\n",
        "\n",
        "\n",
        "목적과 기능이 정해져 있습니다\n",
        "\n",
        "작업 수행을 위해 투입 받는 값을 인수(argument)라고 합니다\n",
        "\n",
        "작업을 완수하는 시점에 반환(return) 하는 값이 있을 수 있습니다\n",
        "\n",
        "\n",
        "---\n",
        "\n",
        "\n",
        "함수 호출 방법\n",
        "함수명(인수)"
      ]
    },
    {
      "cell_type": "code",
      "metadata": {
        "id": "SV3BpVVubvHB"
      },
      "source": [
        "print?"
      ],
      "execution_count": null,
      "outputs": []
    },
    {
      "cell_type": "markdown",
      "metadata": {
        "id": "MDIoGXNua_OU"
      },
      "source": [
        "######1. 줄바꿈"
      ]
    },
    {
      "cell_type": "code",
      "metadata": {
        "id": "dZ1sLiXML_Rw"
      },
      "source": [
        "#print는 새로 호출될 때마다 줄바꿈(newline.\\n)\n",
        "\n",
        "print('놀았던 공은 없어도 공부한 공의 남는다.!!')\n",
        "print(10)\n",
        "print(20)\n",
        "print(30)"
      ],
      "execution_count": null,
      "outputs": []
    },
    {
      "cell_type": "code",
      "metadata": {
        "id": "ZUkhB9ixbgQ9"
      },
      "source": [
        "\n",
        "print(10,20,30) #여러개의 인수를 한 줄 출력을 원하면 ,로 인수를 구분\n",
        "print('-'*50)\n"
      ],
      "execution_count": null,
      "outputs": []
    },
    {
      "cell_type": "markdown",
      "metadata": {
        "id": "fl2u2bXQcuiI"
      },
      "source": [
        "######문장종결값 키워드 인수 end "
      ]
    },
    {
      "cell_type": "code",
      "metadata": {
        "id": "5bu6QGpjcEPP"
      },
      "source": [
        "print(10,20,end='_') # 키워드 인수 end는 문장 종결 값을 임의로 바꿔줄때 사용\n",
        "print(30,end='_')"
      ],
      "execution_count": null,
      "outputs": []
    },
    {
      "cell_type": "markdown",
      "metadata": {
        "id": "HC8rMnfCcbuJ"
      },
      "source": [
        "######**구분값** 키워드 인수 sep"
      ]
    },
    {
      "cell_type": "code",
      "metadata": {
        "id": "SCK1TlU8cAeG"
      },
      "source": [
        "print(10,20,30,sep='<') # 띄어쓰기가 아닌 문자나 기호로 구분을 원하면 키워드 인수 sep 처리\n",
        "print('-'*50)"
      ],
      "execution_count": null,
      "outputs": []
    },
    {
      "cell_type": "markdown",
      "metadata": {
        "id": "HfPlsvufd2Ed"
      },
      "source": [
        "###### format()을 이용한 출력 "
      ]
    },
    {
      "cell_type": "code",
      "metadata": {
        "id": "IQdFm1vleH6p"
      },
      "source": [
        "print('-----{0}-----{1}-----{2}-----'.format(1,2,10))"
      ],
      "execution_count": null,
      "outputs": []
    },
    {
      "cell_type": "code",
      "metadata": {
        "id": "BULUIEize5JP"
      },
      "source": [
        "print('-----{0:3}-----{1:3}-----{2:3}-----'.format(1,2,10))"
      ],
      "execution_count": null,
      "outputs": []
    },
    {
      "cell_type": "code",
      "metadata": {
        "id": "nfS87JdsSNl-"
      },
      "source": [
        "# 왼쪽 정렬\n",
        "text1 = '이것은 {0:<10} 정렬| done {1:<5} |'.format('left', 'a')\n",
        "print(text1)\n",
        " \n",
        "# 오른쪽 정렬\n",
        "text2 = '이것은 {0:>10} 정렬| done {1:>5} |'.format('right', 'b')\n",
        "print(text2)\n",
        " \n",
        "# 가운데 정렬\n",
        "text3 = '이것은 {0:^10} 정렬| done {1:^5} |'.format('center', 'c')\n",
        "print(text3)\n"
      ],
      "execution_count": null,
      "outputs": []
    },
    {
      "cell_type": "markdown",
      "metadata": {
        "id": "J6K0MPZ_cb7R"
      },
      "source": [
        "######f-string 포매팅\n",
        "* 문자열 앞에 f를 붙여주고, 중괄호 안에 직접 변수 이름이나 출력내용을 넣습니다.\n",
        "* 파이썬 버전 3.6 부터 사용 가능\n"
      ]
    },
    {
      "cell_type": "code",
      "metadata": {
        "id": "dx-iXUGQe8yK"
      },
      "source": [
        "a = '운동'\n",
        "b = 4\n",
        "c = 10\n",
        "print(f'나는 {a}이 좋아요!! 하루에 {b}회 {c}분씩 반복 합니다')"
      ],
      "execution_count": null,
      "outputs": []
    },
    {
      "cell_type": "markdown",
      "metadata": {
        "id": "oO0sIeEwghji"
      },
      "source": [
        "* f-string 정렬"
      ]
    },
    {
      "cell_type": "code",
      "metadata": {
        "id": "91LmjXgAge6n"
      },
      "source": [
        "a = '날씨가 좋아요'\n",
        "s_out = f'***  {a:<20}  ***'\n",
        "print(s_out)\n",
        "s_out = f'***  {a:^20}  ***'\n",
        "print(s_out)\n",
        "s_out = f'***  {a:>20}  ***'\n",
        "print(s_out)"
      ],
      "execution_count": null,
      "outputs": []
    },
    {
      "cell_type": "markdown",
      "metadata": {
        "id": "Kf3BBcfuz-5p"
      },
      "source": [
        "* f-string 사용 예제"
      ]
    },
    {
      "cell_type": "code",
      "metadata": {
        "id": "GbwWPzCk0Lva"
      },
      "source": [
        "mm = 1\n",
        "yy = 2021\n",
        "while mm <= 12:\n",
        "    print(f' {yy} 년 {mm:>2}월 ')\n",
        "    mm += 1"
      ],
      "execution_count": null,
      "outputs": []
    },
    {
      "cell_type": "code",
      "metadata": {
        "id": "PbUFQzd65AI-"
      },
      "source": [
        "## 년월을 분기별 한 줄로 츨력합니다\n",
        "'''\n",
        " 2021 년  1월   2021 년  2월   2021 년  3월  \n",
        " 2021 년  4월   2021 년  5월   2021 년  6월  \n",
        " 2021 년  7월   2021 년  8월   2021 년  9월  \n",
        " 2021 년 10월   2021 년 11월   2021 년 12월  \n",
        "'''\n",
        "mm = 1\n",
        "yy = 2021\n",
        "while mm <= 12:\n",
        "    print(f' {yy} 년 {mm:>2}월 ',end=' ')\n",
        "    if mm % 3 == 0:\n",
        "        print(end='\\n')\n",
        "    mm += 1"
      ],
      "execution_count": null,
      "outputs": []
    },
    {
      "cell_type": "markdown",
      "metadata": {
        "id": "QXUQqhICc-_U"
      },
      "source": [
        "# 코드연습장\n"
      ]
    },
    {
      "cell_type": "markdown",
      "metadata": {
        "id": "VhtF3tZJfRAm"
      },
      "source": [
        "####1.sep,end 키워드 인수를 이용한 출력"
      ]
    },
    {
      "cell_type": "markdown",
      "metadata": {
        "id": "KLOwJpQdw0Z6"
      },
      "source": [
        "* 년,월,일,시,분,초를 입력 받습니다.\n",
        "* 출력 결과가 다음과 같이 나오도록 출력 양식을 만듭니다.   \n",
        "      사용함수 input().split( )  \n",
        "      사용인수 sep,end"
      ]
    },
    {
      "cell_type": "code",
      "metadata": {
        "id": "x2JcqAC4ZCs3"
      },
      "source": [
        "# 년 월 일 시 분 초를 입력 받아 출력 합니다\n",
        "year, month, day, hour, minute, second = input().split( )\n",
        "\n",
        "'''\n",
        "출력 결과가 다음과 같이 나오도록 코드를 완성합니다\n",
        "2021/10/1 12:10:1\n",
        "\n",
        "print(year,month,day,??? )\n",
        "print(hour,minute,second,???)\n",
        "'''"
      ],
      "execution_count": null,
      "outputs": []
    },
    {
      "cell_type": "markdown",
      "metadata": {
        "id": "dV6WxXzPfqs7"
      },
      "source": [
        "####2.format()을 이용한 구구단 출력"
      ]
    },
    {
      "cell_type": "code",
      "metadata": {
        "id": "G3p08hHkjqIP"
      },
      "source": [
        "'''\n",
        "정렬(한줄 30)로 구구단 2단을 출력해 봅니다\n",
        "아래 반복문을 사용합니다. \n",
        "for i in range(1,10):\n",
        "    print(????)\n",
        "\n",
        "##출력 output 형식\n",
        "|               2 *  1   =    2              |\n",
        "|               2 *  2   =    4              |\n",
        "|               2 *  3   =    6              |\n",
        "|               2 *  4   =    8              |\n",
        "|               2 *  5   =   10              |\n",
        "|               2 *  6   =   12              |\n",
        "|               2 *  7   =   14              |\n",
        "|               2 *  8   =   16              |\n",
        "|               2 *  9   =   18              |\n",
        "\n",
        "'''\n",
        "for i in range(1,10):\n",
        "     \n",
        "    print('| {0:>15} * {1:^4} = {2:>4}              |'.format(2,i,2*i))   \n",
        "\n"
      ],
      "execution_count": null,
      "outputs": []
    },
    {
      "cell_type": "markdown",
      "metadata": {
        "id": "ERo3qnqYmXMV"
      },
      "source": [
        "####3.20초를 맞춰라\n",
        "\n",
        "    * 시간관련 프로그램 가져오기(import time)\n",
        "    * 시작메세지를 보여주고 입력값을 기다립니다.  input('엔터를 누르고 20초를 셉니다')\n",
        "    * 시작시간을 저장합니다. (시스템 시간 : time.time() 사용, 시작시간 변수명에 저장)\n",
        "    * 안내메세지를 보여주고 입력값을 기다립니다. input('20초 후 enter를 치세요')\n",
        "    * 끝시간을 저장합니다. (시스템 시간 : time.time() 사용, 끝시간 변수명에 저장)\n",
        "    * 차이시간을 계산합니다.(끝시간-시작시간)\n",
        "    * 실제시간을 보여줍니다.\n",
        "    * 20초와 차이시간을 출력합니다.(20-실제시간)\n"
      ]
    },
    {
      "cell_type": "code",
      "metadata": {
        "id": "8rCxRkxOpl4h"
      },
      "source": [
        "import time\n",
        "input('엔터를 누르고 20초를 셉니다')\n",
        "s_time = time.time()\n",
        "input('20초후에 엔터를 누르세요')\n",
        "e_time = time.time()\n",
        "c_time = int(e_time-s_time)\n",
        "print('실제시간:',c_time,'입니다')\n",
        "print('차이시간:',abs(20-c_time),'입니다')"
      ],
      "execution_count": null,
      "outputs": []
    }
  ]
}