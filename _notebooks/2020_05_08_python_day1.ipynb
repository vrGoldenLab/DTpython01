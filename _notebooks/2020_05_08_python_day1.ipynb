{
  "nbformat": 4,
  "nbformat_minor": 0,
  "metadata": {
    "colab": {
      "name": "2020-05-08-python-day1.ipynb",
      "provenance": [],
      "toc_visible": true,
      "authorship_tag": "ABX9TyOqdwDlE59WbH2pm9K1BZaW",
      "include_colab_link": true
    },
    "kernelspec": {
      "name": "python3",
      "display_name": "Python 3"
    },
    "language_info": {
      "name": "python"
    }
  },
  "cells": [
    {
      "cell_type": "markdown",
      "metadata": {
        "id": "view-in-github",
        "colab_type": "text"
      },
      "source": [
        "<a href=\"https://colab.research.google.com/github/vrGoldenLab/DTpython/blob/master/2020_05_08_python_day1.ipynb\" target=\"_parent\"><img src=\"https://colab.research.google.com/assets/colab-badge.svg\" alt=\"Open In Colab\"/></a>"
      ]
    },
    {
      "cell_type": "markdown",
      "metadata": {
        "id": "7SL4KaaDO6VR"
      },
      "source": [
        "# 첫째날. 코딩의 기초를 살펴봅니다."
      ]
    },
    {
      "cell_type": "markdown",
      "metadata": {
        "id": "qhssuhtE8vRH"
      },
      "source": [
        " 코랩에서 코드를 입력하고 실행 버튼을 누르면 계산 결과를 확인할 수 있습니다.  코랩에서 코드추가 버튼  ( 파일 메뉴 아래의 +코드 ) 를 클릭하면 새로운 코드를 입력할 수 있습니다 \n",
        "\n",
        "\n"
      ]
    },
    {
      "cell_type": "markdown",
      "metadata": {
        "id": "669cUVI-LpNm"
      },
      "source": [
        "코딩 초보자들이 실제로 코드를 만들어 보려면 프로그래밍 언어를 다 외우는 것은 오히려 뭐가 뭔지 모르게 될 경우가 있습니다. \n",
        "코드에 필요한 경우에 기본적인 코딩 요소를 연결해서 사용하는 것에 익숙해 지도록 합니다."
      ]
    },
    {
      "cell_type": "markdown",
      "metadata": {
        "id": "jY64Ey7mOKOB"
      },
      "source": [
        "프로그래밍의 기본은 다음과 같습니다. \n",
        "\n",
        "---\n",
        "\n",
        "*   변수\n",
        "*   배열\n",
        "*   조건 분기\n",
        "*   반복\n",
        "*   함수\n",
        "\n"
      ]
    },
    {
      "cell_type": "markdown",
      "metadata": {
        "id": "SurLUvfUPFOT"
      },
      "source": [
        "#**1. 변수**"
      ]
    },
    {
      "cell_type": "markdown",
      "metadata": {
        "id": "E2QOIQebwMig"
      },
      "source": [
        "**변수 이름 정하기**\n",
        "\n",
        "\n",
        "\n",
        "---\n",
        "변수명의 규칙\n",
        "\n",
        "\n",
        "1.   영문 대소문자,숫자,밑줄(_) 로만 만들수 있습니다\n",
        "2.   변수명은 숫자로 시작할 수 없습니다.\n",
        "3.   영문 대소문자를 구분합니다 A와 a는 다른 변수입니다\n",
        "4.   파이썬 내장 함수는 변수명으로 사용할 수 없습니다.( 예: False,True,None,and,as, break, class ....)\n",
        "\n",
        "위의 규칙을 지키면서 변수에 저장된 정보가 어떤 것인지 예상할 수 있는 이름이면 좋습니다. \n",
        "\n",
        "\n"
      ]
    },
    {
      "cell_type": "code",
      "metadata": {
        "colab": {
          "base_uri": "https://localhost:8080/"
        },
        "id": "Iu6eApZx-DCE",
        "outputId": "40e1a1a8-b81f-4562-d803-9edb746ba93f"
      },
      "source": [
        "# 파이썬으로 사칙 연산이나 문자열 연산도 가능합니다. 하지만 계산후 결과값은 일회성으로 보여지기만 합니다. \n",
        "# 결과나 과정,변환된 값을 유지해야 하는 경우 프로그램에서 변수가 필요합니다.\n",
        "print(100+200)\n",
        "print(\"Hello World!\")"
      ],
      "execution_count": null,
      "outputs": [
        {
          "output_type": "stream",
          "text": [
            "300\n",
            "Hello World!\n"
          ],
          "name": "stdout"
        }
      ]
    },
    {
      "cell_type": "markdown",
      "metadata": {
        "id": "gV1rp9oE-SrU"
      },
      "source": [
        "변수란 말 그대로 변할 수 있는 수를 말합니다. \n",
        "코딩에서 특정한 값을 보관힐 수 있는 공간으로 사용됩니다. 계산 결과나 사용자의 입력한 값 혹은 출력해야 하는 값에 사용됩니다. "
      ]
    },
    {
      "cell_type": "code",
      "metadata": {
        "colab": {
          "base_uri": "https://localhost:8080/"
        },
        "id": "AqML2CXN_PF8",
        "outputId": "29e0cbcd-3608-411b-e8fe-0675c57378df"
      },
      "source": [
        "temp = 100  # temp 라는 변수를 만들고 temp 공간에 100 을 넣는다는 의미\n",
        "temp        # temp 값을 확인하겠다는 의미입니다. 코랩외의 환경에서는 print(temp)"
      ],
      "execution_count": null,
      "outputs": [
        {
          "output_type": "execute_result",
          "data": {
            "text/plain": [
              "100"
            ]
          },
          "metadata": {
            "tags": []
          },
          "execution_count": 7
        }
      ]
    },
    {
      "cell_type": "code",
      "metadata": {
        "colab": {
          "base_uri": "https://localhost:8080/"
        },
        "id": "Kot0BsEWA-Uq",
        "outputId": "09923fe6-02a4-4355-b642-0956d18436f1"
      },
      "source": [
        "temp2 = 200\n",
        "print(temp2)"
      ],
      "execution_count": null,
      "outputs": [
        {
          "output_type": "stream",
          "text": [
            "200\n"
          ],
          "name": "stdout"
        }
      ]
    },
    {
      "cell_type": "code",
      "metadata": {
        "id": "vUjTYklUBHCv"
      },
      "source": [
        "temp3 = temp + temp2   # temp3에 temp의 값과 temp2의 값을 더한 새로운 값을 넣는다는 의미\n",
        "temp3"
      ],
      "execution_count": null,
      "outputs": []
    },
    {
      "cell_type": "markdown",
      "metadata": {
        "id": "QhXVe5FgCY-I"
      },
      "source": [
        "**변수를 사용해 문자 더하기 프로그래밍**\n",
        "\n",
        "\n",
        "---\n",
        "\n",
        "\n",
        "변수는 숫자나 문자도 넣어 사용 가능합니다. 문자는 문자끼리 숫자는 숫자끼리 연산도 가능합니다.\n",
        "\n",
        "---\n",
        "\n"
      ]
    },
    {
      "cell_type": "code",
      "metadata": {
        "id": "R2x3nuY_C0Ff"
      },
      "source": [
        "str1 = '문자'   # str1라는 변수를 만들고 '문자'라는 값을 넣습니다"
      ],
      "execution_count": null,
      "outputs": []
    },
    {
      "cell_type": "code",
      "metadata": {
        "id": "RSprhac1DTUf"
      },
      "source": [
        "str2 = '더하기'"
      ],
      "execution_count": null,
      "outputs": []
    },
    {
      "cell_type": "code",
      "metadata": {
        "colab": {
          "base_uri": "https://localhost:8080/"
        },
        "id": "8PEOFSh6DYYk",
        "outputId": "dac30b62-2827-4010-a3bd-55923ae0177e"
      },
      "source": [
        "str3 = str1 + str2 \n",
        "print(str3)\n",
        "print(len(str3)) # str3 변수에 담긴 문자열의 길이를 출력 요청"
      ],
      "execution_count": null,
      "outputs": [
        {
          "output_type": "stream",
          "text": [
            "문자더하기\n",
            "5\n"
          ],
          "name": "stdout"
        }
      ]
    },
    {
      "cell_type": "markdown",
      "metadata": {
        "id": "UtK-zq4SHCd3"
      },
      "source": [
        "**변수의 자료형**\n",
        "\n",
        "\n",
        "---\n",
        "\n",
        "\n",
        "파이썬은 어떤 값을 담고 있느냐에 따라 변수의 자료형이 달라집니다.\n",
        " \n",
        "문자값을 담고 있으면 문자형 변수, 숫자값을 담고 있을 때는 정수값인지 실수값인지에 따라 정수형 변수, 실수형 변수라고 합니다. \n",
        "\n",
        "100은 정수형 데이터, 100.0 은 실수형 데이터, '100'은 문자형 데이터\n",
        "\n",
        "---\n",
        "\n"
      ]
    },
    {
      "cell_type": "code",
      "metadata": {
        "colab": {
          "base_uri": "https://localhost:8080/"
        },
        "id": "wWn6g6JaIUj6",
        "outputId": "458efe27-8d5c-4ec8-aa4e-96682345f8ea"
      },
      "source": [
        "type(str3)"
      ],
      "execution_count": null,
      "outputs": [
        {
          "output_type": "execute_result",
          "data": {
            "text/plain": [
              "str"
            ]
          },
          "metadata": {
            "tags": []
          },
          "execution_count": 21
        }
      ]
    },
    {
      "cell_type": "code",
      "metadata": {
        "colab": {
          "base_uri": "https://localhost:8080/"
        },
        "id": "dDJt0Ps3I9Kh",
        "outputId": "fb72efff-e916-46f6-a0c1-c963039f12b5"
      },
      "source": [
        "type(temp)"
      ],
      "execution_count": null,
      "outputs": [
        {
          "output_type": "execute_result",
          "data": {
            "text/plain": [
              "int"
            ]
          },
          "metadata": {
            "tags": []
          },
          "execution_count": 22
        }
      ]
    },
    {
      "cell_type": "code",
      "metadata": {
        "colab": {
          "base_uri": "https://localhost:8080/"
        },
        "id": "9WOBmGCZJDxO",
        "outputId": "c2cd2d47-73d6-4c5f-f6fe-0b2ffaa01236"
      },
      "source": [
        "temp = 100.25\n",
        "type(temp)"
      ],
      "execution_count": null,
      "outputs": [
        {
          "output_type": "execute_result",
          "data": {
            "text/plain": [
              "float"
            ]
          },
          "metadata": {
            "tags": []
          },
          "execution_count": 23
        }
      ]
    },
    {
      "cell_type": "markdown",
      "metadata": {
        "id": "j8TQv2tMJ6Ni"
      },
      "source": [
        "**강제로 변수형 바꾸기**\n",
        "\n",
        "\n",
        "---\n",
        "\n",
        "\n",
        "문자형 자료를 숫자로 바꾸어 계산을 해야 하는 경우나 정수형 변수를 문자형으로 출력 해야 할 때가 있습니다. 이런 경우 변수를 강제 변환하는 명령어를 사용합니다.\n",
        "\n",
        "---\n",
        "\n"
      ]
    },
    {
      "cell_type": "code",
      "metadata": {
        "colab": {
          "base_uri": "https://localhost:8080/"
        },
        "id": "Jb4S97XPMqBk",
        "outputId": "2fd15f58-f2ec-4f09-83bf-d98c720020df"
      },
      "source": [
        "str4 = '100'\n",
        "type(str4)"
      ],
      "execution_count": null,
      "outputs": [
        {
          "output_type": "execute_result",
          "data": {
            "text/plain": [
              "str"
            ]
          },
          "metadata": {
            "tags": []
          },
          "execution_count": 28
        }
      ]
    },
    {
      "cell_type": "code",
      "metadata": {
        "colab": {
          "base_uri": "https://localhost:8080/"
        },
        "id": "MgiB6H-lM-lr",
        "outputId": "065d8770-2752-4b3a-cd0a-780ec45ab328"
      },
      "source": [
        "type(int)"
      ],
      "execution_count": null,
      "outputs": [
        {
          "output_type": "execute_result",
          "data": {
            "text/plain": [
              "int"
            ]
          },
          "metadata": {
            "tags": []
          },
          "execution_count": 30
        }
      ]
    },
    {
      "cell_type": "markdown",
      "metadata": {
        "id": "QD6PgzlnSBY7"
      },
      "source": [
        "#**2. 배열**"
      ]
    },
    {
      "cell_type": "markdown",
      "metadata": {
        "id": "ymdXrUWASXnP"
      },
      "source": [
        "**여러 값을 넣을 수 있는 배열**\n",
        "\n",
        "\n",
        "---\n",
        "\n",
        "\n",
        "변수는 하나의 값만 넣을 수 있지만 배열은 여러개의 값을 넣어 사용할 수 있습니다. 배열의 가장 앞에 있는 원소의 번호는 1이 아니라 0입니다. 첫번째 원소에 접근하지 위해서는 0 인덱스와 대괄호를 사용합니다. 마지막 원소는 인덱스 -1과 대괄호를 사용합니다.\n",
        "\n",
        "---\n",
        "\n",
        "기타 배열로는 튜플과 딕션너리가 있습니다.\n",
        "\n",
        "튜플은 리스트처럼 요소를 일렬로 저장하지만, 안의 요소를 변경,추가,삭제를 할 수 없습니다. 읽기 전용 리스트라 할 수 있습니다. \n",
        "\n",
        "딕셔너리는 연관된 값을 묶어서 저장하는 자료형 입니다. {}중괄호안에 키:값 형식으로 저장합니다. 사전에서 단어 찾듯이 값을 가져올 수 있습니다.\n"
      ]
    },
    {
      "cell_type": "markdown",
      "metadata": {
        "id": "cAnoFgx4UkBH"
      },
      "source": [
        "**배열의 길이와 배열 원소의 접근**\n",
        "\n",
        "\n",
        "---\n",
        "\n",
        "\n",
        "배열의 데이터가 많을 경우 배열 원소의 길이를 알려주는 함수를 사용합니다. len()\n",
        "\n",
        "list = [ 1,10,15,2 ] 일때\n",
        "\n",
        "list의 1번째 원소는 1  (인덱스 번호는 0)\n",
        "\n",
        "list의 1번째 원소는 10 (인덱스 번호는 1)\n",
        "\n",
        "list의 1번째 원소는 15 (인덱스 번호는 2)\n",
        "\n",
        "list의 1번째 원소는 2  (인덱스 번호는 3 ,혹은 -1)\n",
        "\n",
        "\n",
        "---\n",
        "\n"
      ]
    },
    {
      "cell_type": "markdown",
      "metadata": {
        "id": "gnWyKHvxFQhk"
      },
      "source": [
        ""
      ]
    },
    {
      "cell_type": "code",
      "metadata": {
        "colab": {
          "base_uri": "https://localhost:8080/"
        },
        "id": "dvDuunAHT_0h",
        "outputId": "2193c559-1502-4cec-e824-c6a50f347bab"
      },
      "source": [
        "list1 = [1,2,3,4,5,6,7,8,9,10]  #list1 배열을 만들고 그 안에 여러 값을 넣습니다\n",
        "print(list1)"
      ],
      "execution_count": null,
      "outputs": [
        {
          "output_type": "stream",
          "text": [
            "[1, 2, 3, 4, 5, 6, 7, 8, 9, 10]\n"
          ],
          "name": "stdout"
        }
      ]
    },
    {
      "cell_type": "code",
      "metadata": {
        "colab": {
          "base_uri": "https://localhost:8080/"
        },
        "id": "sL5J4Tj3eeVq",
        "outputId": "7463686b-39ca-4c69-f156-1f39f46c839d"
      },
      "source": [
        "len(list1) # list1 배열 원소값을 요청\n",
        "\n",
        "#len은 문자열의 길이도 구할 수 있습니다."
      ],
      "execution_count": null,
      "outputs": [
        {
          "output_type": "execute_result",
          "data": {
            "text/plain": [
              "10"
            ]
          },
          "metadata": {
            "tags": []
          },
          "execution_count": 4
        }
      ]
    },
    {
      "cell_type": "code",
      "metadata": {
        "colab": {
          "base_uri": "https://localhost:8080/"
        },
        "id": "SOJw9CHte_WQ",
        "outputId": "9cfab3a7-8d86-4b11-eb28-ebf1f55f47f5"
      },
      "source": [
        "print(list1[0])  #list1배열의 첫번째 원소값을 출력\n",
        "print(list1[-1]) #list1배열의 마지막 원소값을 출력\n",
        "print('list1 배열의 마지막 원소값은 ' + str(list1[-1]) + '입니다') #list1배열의 마지막 원소값을 문자열과 함께 출력"
      ],
      "execution_count": null,
      "outputs": [
        {
          "output_type": "stream",
          "text": [
            "1\n",
            "10\n",
            "list1 배열의 마지막 원소값은 10입니다\n"
          ],
          "name": "stdout"
        }
      ]
    },
    {
      "cell_type": "markdown",
      "metadata": {
        "id": "47siei3PhtuO"
      },
      "source": [
        "**슬라이싱 : 배열 원소의 일정 부분만 가져오기**\n",
        "\n",
        "\n",
        "\n",
        "---\n",
        "\n",
        "배열의 원소 중 일부분만 가져와서 사용하는 경우나 전체 데이터를 여러부분으로 나누어서 사용할 경우 사용하는 방법입니다.\n",
        "슬라이싱할 처음 위치와 마지막 위치를 정해주면 그 사이 값을 가져옵니다."
      ]
    },
    {
      "cell_type": "code",
      "metadata": {
        "colab": {
          "base_uri": "https://localhost:8080/"
        },
        "id": "YKJ4xzhvixVW",
        "outputId": "13d5d3bf-ecd2-4965-e57a-ab78f3e170f5"
      },
      "source": [
        "print(list1[2:6])   #list1 배열의 인덱스 2번부터 6번 앞까지의 데이터 출력 요청\n",
        "print(list1[2:])    #list1 배열의 인덱스 2번부터 마지막까지의 데이터 출력 요청\n",
        "print(list1[:6])    #list1 배열의 처음부터 인덱스 6번부터 앞까지의 데이터 출력 요청\n",
        "print(list1[:-1])   #list1 배열의 처음부터 인덱스 마지막 앞까지의 데이터 출력 요청"
      ],
      "execution_count": null,
      "outputs": [
        {
          "output_type": "stream",
          "text": [
            "[3, 4, 5, 6]\n",
            "[3, 4, 5, 6, 7, 8, 9, 10]\n",
            "[1, 2, 3, 4, 5, 6]\n",
            "[1, 2, 3, 4, 5, 6, 7, 8, 9]\n"
          ],
          "name": "stdout"
        }
      ]
    },
    {
      "cell_type": "markdown",
      "metadata": {
        "id": "kRJ5OO_O62kM"
      },
      "source": [
        "**range를 사용해서 리스트 만들기**\n",
        "\n",
        "\n",
        "\n",
        "---\n",
        "\n",
        "\n",
        "\n",
        "*  리스트 = list( range(횟수) )\n",
        "*  리스트 = list( range(시작,끝) )\n",
        "*  리스트 = list( range(시작,끝,증가폭) )\n",
        "\n"
      ]
    },
    {
      "cell_type": "code",
      "metadata": {
        "colab": {
          "base_uri": "https://localhost:8080/"
        },
        "id": "sBPegnzx6wxK",
        "outputId": "af9b2116-1eea-441e-c806-1abc37e8e128"
      },
      "source": [
        "list_rg1 = list(range(11))     \n",
        "\n",
        "list_rg2 = list(range(5,12))\n",
        "\n",
        "list_rg3 = list(range(-4,5,2))\n",
        "\n",
        "list_rg4 = list(range(20,-1,-1))\n",
        "\n",
        "list_rg5 = list('hello world')\n",
        "\n",
        "print(\"list_rg1은\" , list_rg1)\n",
        "print(\"list_rg2은\" , list_rg2)\n",
        "print(\"list_rg3은\" , list_rg3)\n",
        "print(\"list_rg4은\" , list_rg4)\n",
        "print(\"list_rg5은\" , list_rg5)"
      ],
      "execution_count": null,
      "outputs": [
        {
          "output_type": "stream",
          "text": [
            "list_rg1은 [0, 1, 2, 3, 4, 5, 6, 7, 8, 9, 10]\n",
            "list_rg2은 [5, 6, 7, 8, 9, 10, 11]\n",
            "list_rg3은 [-4, -2, 0, 2, 4]\n",
            "list_rg4은 [20, 19, 18, 17, 16, 15, 14, 13, 12, 11, 10, 9, 8, 7, 6, 5, 4, 3, 2, 1, 0]\n",
            "list_rg5은 ['h', 'e', 'l', 'l', 'o', ' ', 'w', 'o', 'r', 'l', 'd']\n"
          ],
          "name": "stdout"
        }
      ]
    },
    {
      "cell_type": "code",
      "metadata": {
        "colab": {
          "base_uri": "https://localhost:8080/"
        },
        "id": "f0mQsnCdAJBs",
        "outputId": "24537d53-c7d9-491d-88bf-dd5cecf2d465"
      },
      "source": [
        "# 요소의 값 할당하기,삭제하기\n",
        "\n",
        "list_rg5 = list('hello world')\n",
        "list_rg5[0] = 'H'\n",
        "\n",
        "print(\"list_rg5의 0번째 요소 대문자로 수정\" , list_rg5)\n",
        "\n",
        "del list_rg5[5]\n",
        "print(\"list_rg5의 5번째 요소 삭제\" , list_rg5)"
      ],
      "execution_count": null,
      "outputs": [
        {
          "output_type": "stream",
          "text": [
            "list_rg5의 0번째 요소 대문자로 수정 ['H', 'e', 'l', 'l', 'o', ' ', 'w', 'o', 'r', 'l', 'd']\n",
            "list_rg5의 5번째 요소 삭제 ['H', 'e', 'l', 'l', 'o', 'w', 'o', 'r', 'l', 'd']\n"
          ],
          "name": "stdout"
        }
      ]
    },
    {
      "cell_type": "markdown",
      "metadata": {
        "id": "PwQY2XsZlwMG"
      },
      "source": [
        "# **3.반복문 (for)**"
      ]
    },
    {
      "cell_type": "markdown",
      "metadata": {
        "id": "G6aPCuNzl2JM"
      },
      "source": [
        "반복하기는 컴퓨터의 특기 중 하나입니다.\n",
        "\n",
        "컴퓨터는 아무리 단순한 일도 수백 번, 수 만번씩 반복해도 명령대로 처리하고 그 결과를 보여 줍니다.\n",
        "\n",
        "파이썬에서 사용하는 반복문은 for와 while 이 있습니다.\n",
        "\n",
        "for 반복은 range (범위)를 사용하며 배열의 개념과 관련이 있습니다.\n",
        "\n",
        "for 변수 in range:\n",
        "\n",
        "      반복할 내용\n",
        "\n",
        "\n",
        "---\n",
        "\n",
        "\n",
        "\n",
        "**파이썬의 인덴트 intent**\n",
        "\n",
        "파이썬에서는 반복문,조건문,함수 등 코드 블록을 표시하기 위해 중괄호를 사용하지 않고 들여쓰기를 합니다. 들여쓰기의 기본은 4칸이며 tap 키를 사용합니다.\n",
        "\n",
        "for 문 사용시 흔히 하는 실수는 반복 블럭을 정하는 부분입니다.\n",
        "\n",
        "for x in range(): 에서 콜론(:) 을 빠뜨리지 않았는지\n",
        "반복할 내용에서 정확히 들여쓰기가 되었는지 확인합니다."
      ]
    },
    {
      "cell_type": "code",
      "metadata": {
        "colab": {
          "base_uri": "https://localhost:8080/"
        },
        "id": "kSiXYa0KpNi1",
        "outputId": "8469dadb-0d4c-45c0-e197-3e19c60ecb4d"
      },
      "source": [
        "for x in range(5): # range(5)은 0,1,2,3,4 이므로 변수 x값을 차례대로 0,1,2,3,4로 바꾸면서 반복 블록 실행\n",
        "  print(x)         # 반복될 내용 - 변수 x값을 출력 요청합니다"
      ],
      "execution_count": null,
      "outputs": [
        {
          "output_type": "stream",
          "text": [
            "0\n",
            "1\n",
            "2\n",
            "3\n",
            "4\n"
          ],
          "name": "stdout"
        }
      ]
    },
    {
      "cell_type": "code",
      "metadata": {
        "colab": {
          "base_uri": "https://localhost:8080/"
        },
        "id": "g09m1Vcvq7Qo",
        "outputId": "a7ebc778-3557-41b9-834b-085dd26b0b94"
      },
      "source": [
        "for x in range(2,4): # range(2,4)은 2부터 4번째 앞까지 이므로 변수 x값을 차례대로 2,3로 바꾸면서 반복 블록 실행\n",
        "  print(x)         # 반복될 내용 - 변수 x값을 출력 요청합니다"
      ],
      "execution_count": null,
      "outputs": [
        {
          "output_type": "stream",
          "text": [
            "2\n",
            "3\n"
          ],
          "name": "stdout"
        }
      ]
    },
    {
      "cell_type": "code",
      "metadata": {
        "colab": {
          "base_uri": "https://localhost:8080/"
        },
        "id": "Yv7NNwR54eJ3",
        "outputId": "e761dc8d-f925-4942-ac95-a79cd4294af3"
      },
      "source": [
        "list2 = []\n",
        "\n",
        "for x in range(0,10):\n",
        "  print(x)"
      ],
      "execution_count": null,
      "outputs": [
        {
          "output_type": "stream",
          "text": [
            "0\n",
            "1\n",
            "2\n",
            "3\n",
            "4\n",
            "5\n",
            "6\n",
            "7\n",
            "8\n",
            "9\n"
          ],
          "name": "stdout"
        }
      ]
    },
    {
      "cell_type": "code",
      "metadata": {
        "colab": {
          "base_uri": "https://localhost:8080/"
        },
        "id": "SlJDlGT5sqgf",
        "outputId": "01de8045-9533-4bb8-8b5f-9a9be7a029e4"
      },
      "source": [
        "'''\n",
        "합계를 구하는 변수의 처음 값은 0으로 정합니다\n",
        "range의 처음 값은 변수 a로 하고 1값을 넣습니다\n",
        "range의 마지막 값은 변수 b 로 하고 11값을 넣습니다\n",
        "\n",
        "a부터 b-1까지 x값을 바꾸면서 반복합니다\n",
        "현재의 test_sum값에 x값을 더합니다\n",
        "\n",
        "현재의 x값과 test_sum 값을 출력합니다\n",
        "반복이 완료된 후 '-'을 50번 반복 출력하고 총합 문자열을 출력합니다\n",
        "'''\n",
        "\n",
        "test_sum = 0\n",
        "a = 1\n",
        "b = 11\n",
        "for x in range (a,b):\n",
        "  test_sum += x\n",
        "  print (\"x:\", x , \"sum:\" , test_sum)\n",
        "print('-' * 50)\n",
        "print( a ,' 부터  ', b-1,' 까지 더한 총합은 ' , test_sum , '입니다')"
      ],
      "execution_count": null,
      "outputs": [
        {
          "output_type": "stream",
          "text": [
            "x: 1 sum: 1\n",
            "x: 2 sum: 3\n",
            "x: 3 sum: 6\n",
            "x: 4 sum: 10\n",
            "x: 5 sum: 15\n",
            "x: 6 sum: 21\n",
            "x: 7 sum: 28\n",
            "x: 8 sum: 36\n",
            "x: 9 sum: 45\n",
            "x: 10 sum: 55\n",
            "--------------------------------------------------\n",
            "1  부터   10  까지 더한 총합은  55 입니다\n"
          ],
          "name": "stdout"
        }
      ]
    },
    {
      "cell_type": "markdown",
      "metadata": {
        "id": "CZTlga2QPdJY"
      },
      "source": [
        "# **4. 조건문 (if,else,elif)**"
      ]
    },
    {
      "cell_type": "markdown",
      "metadata": {
        "id": "mJkLjyIdPkox"
      },
      "source": [
        "파이썬 프로그래밍을 할 때 반복문과 함께 자주 사용되는 것이 조건문입니다.\n",
        "\n",
        "조건에 해당되는지, 해당되지 않는지에 따라 서로 다른 명령을 수행하도록 합니다.\n",
        "\n"
      ]
    },
    {
      "cell_type": "markdown",
      "metadata": {
        "id": "HlhtOZas1F4M"
      },
      "source": [
        "* if문의 구조   \n",
        "\n",
        "      if 조건문:\n",
        "            수행할 문장1\n",
        "            수행할 문장2\n",
        "            ...\n",
        "       else:\n",
        "            수행할 문장A\n",
        "            수행할 문장B\n",
        "             ..."
      ]
    },
    {
      "cell_type": "markdown",
      "metadata": {
        "id": "DZ_ZsnK11vWZ"
      },
      "source": [
        "* 들여쓰기\n",
        "if문을 만들 때는 if 조건문: 바로 아래 문장부터 if문에 속하는 모든 문장에 들여쓰기를 해주어야 합니다.\n",
        "아래와 같이 기술하면 오류처리 됩니다.\n",
        "```\n",
        "if 조건문:\n",
        "    수행할 문장1\n",
        "수행할 문장2\n",
        "    수행할 문장3\n",
        "```"
      ]
    },
    {
      "cell_type": "code",
      "metadata": {
        "id": "r1VXw38C166N"
      },
      "source": [
        "bol_chk = True\n",
        "if bol_chk:\n",
        "    print(\"a\")\n",
        "print(\"b\")\n",
        "    print(\"c\")"
      ],
      "execution_count": null,
      "outputs": []
    },
    {
      "cell_type": "markdown",
      "metadata": {
        "id": "N388mmA43Ni-"
      },
      "source": [
        "파이썬이 다른 언어보다 보기 쉬운 이유는 콜론(:)을 사용하여 들여쓰기를 사용하기 때문입니다.   \n",
        "if 조건문 뒤에는 반드시 콜론(:)이 붙고 while이나 for, def, class문에도 역시 문장의 끝에 콜론(:)이 항상 들어가는 것을 주의 합니다."
      ]
    },
    {
      "cell_type": "markdown",
      "metadata": {
        "id": "CNBay7gd4m5k"
      },
      "source": [
        "*  비교연산자\n",
        "\n",
        "이번에는 조건문에 비교연산자(<, >, ==, !=, >=, <=)를 쓰는 방법에 대해 알아보자.\n",
        "\n",
        "다음 표는 비교 연산자를 잘 설명해 준다.\n",
        "\n",
        "    비교연산자\t설명\n",
        "    \n",
        "    x < y\tx가 y보다 작다\n",
        "    x > y\tx가 y보다 크다\n",
        "    x == y\tx와 y가 같다\n",
        "    x != y\tx와 y가 같지 않다\n",
        "    x >= y\tx가 y보다 크거나 같다\n",
        "    x <= y\tx가 y보다 작거나 같다"
      ]
    },
    {
      "cell_type": "code",
      "metadata": {
        "colab": {
          "base_uri": "https://localhost:8080/"
        },
        "id": "fEi4yFSQQW7j",
        "outputId": "ac3ed44c-a10d-4e50-daf9-2ddb2fd48e93"
      },
      "source": [
        "test_num1 = 11\n",
        "if test_num1 > 10:                          #if 뒤에 조건을 작성하고 마지막에 콜론 :을 붙입니다\n",
        "  print( test_num1 ,'은 10보다 큽니다')     #4칸 띄운 후 조건이 참일 때의 명령문을 작성\n",
        "else:\n",
        "  print( test_num1, '은 10보다 작거나 같습니다')"
      ],
      "execution_count": null,
      "outputs": [
        {
          "output_type": "stream",
          "text": [
            "11 은 10보다 큽니다\n"
          ],
          "name": "stdout"
        }
      ]
    },
    {
      "cell_type": "code",
      "metadata": {
        "colab": {
          "base_uri": "https://localhost:8080/"
        },
        "id": "-xNtqOojVdzg",
        "outputId": "a9b64199-6cc2-4eb0-e62a-68e54f7f037f"
      },
      "source": [
        "import random # random 무작위 수를 발생시키는 모듈\n",
        "for x in range(3):                            # 3번 반복\n",
        "\n",
        "  test_num1 = random.randint(1,15)            # 1에서 15사이의 임의의 수를 test_num1에 넣는다\n",
        "  if test_num1 > 10:                          #if 뒤에 조건을 작성하고 마지막에 콜론 :을 붙입니다\n",
        "    print( test_num1 ,'은 10보다 큽니다')     #4칸 띄운 후 조건이 참일 때의 면령문을 작성\n",
        "  else:\n",
        "    print( test_num1, '은 10보다 작거나 같습니다')\n"
      ],
      "execution_count": null,
      "outputs": [
        {
          "output_type": "stream",
          "text": [
            "7 은 10보다 작거나 같습니다\n",
            "8 은 10보다 작거나 같습니다\n",
            "13 은 10보다 큽니다\n"
          ],
          "name": "stdout"
        }
      ]
    },
    {
      "cell_type": "code",
      "metadata": {
        "colab": {
          "base_uri": "https://localhost:8080/"
        },
        "id": "NTrvz4dwZdcu",
        "outputId": "2f4faeb6-54af-4c72-f489-59c959fba9ae"
      },
      "source": [
        "import random # random 무작위 수를 발생시키는 모듈\n",
        "for x in range(10):                            # 10번 반복\n",
        "\n",
        "  test_num1 = random.randint(1,15)            # 1에서 15사이의 임의의 수를 test_num1에 넣는다\n",
        "  if test_num1 > 10:                          #if 뒤에 조건을 작성하고 마지막에 콜론 :을 붙입니다\n",
        "    print( test_num1 ,'은 10보다 큽니다')     #4칸 띄운 후 조건이 참일 때의 면령문을 작성\n",
        "  elif test_num1 == 10:                       # elif 여러개의 조건이 있을때 사용하고  마지막에 콜론:을 붙인다 \n",
        "     print( test_num1, '은 10과 같습니다')\n",
        "  else :                                      # 앞의 조건식이 모두 맞지 않을때\n",
        "    print( test_num1, '은 10보다 작습니다')\n"
      ],
      "execution_count": null,
      "outputs": [
        {
          "output_type": "stream",
          "text": [
            "14 은 10보다 큽니다\n",
            "10 은 10과 같습니다\n",
            "15 은 10보다 큽니다\n",
            "2 은 10보다 작습니다\n",
            "6 은 10보다 작습니다\n",
            "14 은 10보다 큽니다\n",
            "2 은 10보다 작습니다\n",
            "2 은 10보다 작습니다\n",
            "9 은 10보다 작습니다\n",
            "6 은 10보다 작습니다\n"
          ],
          "name": "stdout"
        }
      ]
    },
    {
      "cell_type": "markdown",
      "metadata": {
        "id": "Ex6pFPNMbFZi"
      },
      "source": [
        "#**5. 반복문 (while)**"
      ]
    },
    {
      "cell_type": "markdown",
      "metadata": {
        "id": "LlQz3X6PbMWl"
      },
      "source": [
        "**while 명령어 뒤에 오는 조건이 참일 동안 반복**\n",
        "\n",
        "---\n",
        "while 반복문은 조건식으로만 동작하고 반복 수행문에 조건에 영향을 주는 변화식이 들어갑니다.\n",
        "\n",
        "for는 반복할 횟수가 정해졌을때 while은 반복할 횟수가 정해지지 않았을 때 사용합니다.\n",
        "\n",
        "중첩반복은 테이블 형태의 데이터를 다룰 때 사용합니다.\n",
        "\n",
        "\n"
      ]
    },
    {
      "cell_type": "code",
      "metadata": {
        "colab": {
          "base_uri": "https://localhost:8080/"
        },
        "id": "hBX07eWVceFJ",
        "outputId": "87aadee2-d0c9-4667-f710-9f35d26aad60"
      },
      "source": [
        "x = 0                   #변수 x에 초기값 0을 넣습니다\n",
        "while x < 15:           #while 조건식 - 변수x가 15보다 작을 경우 반복 \n",
        "  print('Hello world', x)  #반복처리 코드\n",
        "  x += 1                #조건 변화 처리 - 반복시 x를 1씩 증가합니다"
      ],
      "execution_count": null,
      "outputs": [
        {
          "output_type": "stream",
          "text": [
            "Hello world 0\n",
            "Hello world 1\n",
            "Hello world 2\n",
            "Hello world 3\n",
            "Hello world 4\n",
            "Hello world 5\n",
            "Hello world 6\n",
            "Hello world 7\n",
            "Hello world 8\n",
            "Hello world 9\n",
            "Hello world 10\n",
            "Hello world 11\n",
            "Hello world 12\n",
            "Hello world 13\n",
            "Hello world 14\n"
          ],
          "name": "stdout"
        }
      ]
    },
    {
      "cell_type": "markdown",
      "metadata": {
        "id": "9h_3UPd1ehM8"
      },
      "source": [
        "**break, continue로 반복문 제어**\n",
        "\n",
        "---\n",
        "break는 for와 while의 반복을 중단합니다.\n",
        "\n",
        "continue는 반복을 유지한 상태에서 코드 실행만 건너뛰는 역할을 합니다.\n",
        "\n"
      ]
    },
    {
      "cell_type": "code",
      "metadata": {
        "colab": {
          "base_uri": "https://localhost:8080/"
        },
        "id": "P8e1Amw1fVwg",
        "outputId": "75aaa02f-c8b2-4bed-a96e-64bfb7caf0ce"
      },
      "source": [
        "x = 0          #초기값\n",
        "while True:    #무한루프\n",
        "  print (x)   \n",
        "  x += 1       #변수x를 1씩 증가\n",
        "  if x == 10:  #변수 x가 10일 때\n",
        "    break      #반복문을 끝내고 while 문을 벗어남"
      ],
      "execution_count": null,
      "outputs": [
        {
          "output_type": "stream",
          "text": [
            "0\n",
            "1\n",
            "2\n",
            "3\n",
            "4\n",
            "5\n",
            "6\n",
            "7\n",
            "8\n",
            "9\n"
          ],
          "name": "stdout"
        }
      ]
    },
    {
      "cell_type": "code",
      "metadata": {
        "colab": {
          "base_uri": "https://localhost:8080/"
        },
        "id": "Cja9IZ7LgnW8",
        "outputId": "0c0e66b4-7dcc-4e38-c09e-3e5fd597bf4f"
      },
      "source": [
        "x = 0          #초기값\n",
        "while x < 100:    #변수 x가 100보다 은 동안 반복\n",
        "  x += 1\n",
        " \n",
        "  if x % 2 == 0:        #x 를 17로 나누어서 나머지가 0이면 짝수\n",
        "    continue            #아래코드를 실행하지 않고 건너뜀\n",
        "  print (x)\n",
        "\n",
        "  if x == 21:           #변수 x가 51일 때\n",
        "    break               #반복문을 끝내고 while 문을 벗어남"
      ],
      "execution_count": null,
      "outputs": [
        {
          "output_type": "stream",
          "text": [
            "1\n",
            "3\n",
            "5\n",
            "7\n",
            "9\n",
            "11\n",
            "13\n",
            "15\n",
            "17\n",
            "19\n",
            "21\n"
          ],
          "name": "stdout"
        }
      ]
    },
    {
      "cell_type": "markdown",
      "metadata": {
        "id": "ZQB4N_vYmr7l"
      },
      "source": [
        " # **6. 함수**"
      ]
    },
    {
      "cell_type": "markdown",
      "metadata": {
        "id": "PPW49BYvm0mw"
      },
      "source": [
        "***자주 사용되는 프로그램의 일부분을 분리하여 정의  ***\n",
        "\n",
        "---\n",
        "함수가 어떤 기능을 할 건지 파이썬에게 알려주는 것을 '함수를 정의한다'라고 합니다\n",
        "\n",
        "만들어진 함수를 실제로 사용하는 것을 '함수를 호출한다'라고 합니다.\n"
      ]
    },
    {
      "cell_type": "code",
      "metadata": {
        "colab": {
          "base_uri": "https://localhost:8080/"
        },
        "id": "ddwFbks7mfQT",
        "outputId": "0b2281a3-828f-4b0b-d30e-b2beaa90d8fd"
      },
      "source": [
        "def hello():   #hello 함수 정의\n",
        "  print('Hello Python!')\n",
        "\n",
        "hello()        #hello 함수 호출\n",
        "hello()\n"
      ],
      "execution_count": null,
      "outputs": [
        {
          "output_type": "stream",
          "text": [
            "Hello Python!\n",
            "Hello Python!\n"
          ],
          "name": "stdout"
        }
      ]
    },
    {
      "cell_type": "code",
      "metadata": {
        "colab": {
          "base_uri": "https://localhost:8080/"
        },
        "id": "vBTEaw-Oo8wb",
        "outputId": "d4b1a325-4b33-4ed5-a97c-c897dee97d6e"
      },
      "source": [
        "# 이름을 인자값으로 받아 출력하는 함수\n",
        "def hello(name):\n",
        "  print('Hello ' ,name )\n",
        "list_name = ['철수','영희','순희','영수']\n",
        "for x in list_name:\n",
        "  hello(x)\n"
      ],
      "execution_count": null,
      "outputs": [
        {
          "output_type": "stream",
          "text": [
            "Hello  철수\n",
            "Hello  영희\n",
            "Hello  순희\n",
            "Hello  영수\n"
          ],
          "name": "stdout"
        }
      ]
    },
    {
      "cell_type": "code",
      "metadata": {
        "colab": {
          "base_uri": "https://localhost:8080/"
        },
        "id": "FCUIxqxmrBdk",
        "outputId": "3e49226b-134a-403b-898e-b58aefb5f8c1"
      },
      "source": [
        "# 1부터 n까지 구하는 함수\n",
        "def sum_func(n):\n",
        "  d_sum = 0                #합을 구하기 위한 변수 초기화\n",
        "  for x in range(1,n+1):   #range를 1부터 n+1까지로 정해 1부터 n까지 x값을 변화하면 반복\n",
        "    d_sum += x             #현재 합에 x를 다시 더한다\n",
        "  return d_sum             #계산된 d_sum 값을 결과값으로 돌려줍니다\n",
        "\n",
        "print(sum_func(10))\n",
        "print(sum_func(1000))"
      ],
      "execution_count": null,
      "outputs": [
        {
          "output_type": "stream",
          "text": [
            "55\n",
            "500500\n"
          ],
          "name": "stdout"
        }
      ]
    },
    {
      "cell_type": "markdown",
      "metadata": {
        "id": "YLL1TF1gveYY"
      },
      "source": [
        "# **오늘의 코딩**"
      ]
    },
    {
      "cell_type": "code",
      "metadata": {
        "colab": {
          "base_uri": "https://localhost:8080/"
        },
        "id": "g5D0xO_Oxl8q",
        "outputId": "034d09bd-320e-4fc6-b688-76506642f0a2"
      },
      "source": [
        "a = '3+9'  \n",
        "eval(a)   # eval 함수 괄호 안에 문자열로 된 수식을 넣으면 eval 함수는 문자열을 수식으로 계산해서 결과값으로 돌려줍니다."
      ],
      "execution_count": null,
      "outputs": [
        {
          "output_type": "execute_result",
          "data": {
            "text/plain": [
              "12"
            ]
          },
          "metadata": {
            "tags": []
          },
          "execution_count": 81
        }
      ]
    },
    {
      "cell_type": "code",
      "metadata": {
        "colab": {
          "base_uri": "https://localhost:8080/"
        },
        "id": "fbj7KAYLgkAP",
        "outputId": "551f2d00-2f02-467b-ed37-4a4a2a4e7b6e"
      },
      "source": [
        "'''\n",
        "파이썬의 random 모듈을 이용하여 간단한 더하기,빼기,곱하기 문제를 무작위로 만들어 봅니다\n",
        "사용자가 문제를 보고 답을 입력하면 컵퓨터가 정답,오답을 구분하여 점수를 계산합니다.\n",
        "문제는 다섯번 반복합니다. \n",
        "'''\n",
        "import random\n",
        "\n",
        "def make_quiz():\n",
        "  a = random.randint(1,50)  # 1~50까지 임의의 수\n",
        "  b = random.randint(1,50)  # 1~50까지 임의의 수\n",
        "  k = random.randint(1,4)   # 1~4까지 임의의 수 (연산자 임의 선택 )\n",
        "\n",
        "  # 연산자 처리 1 은 더하기 ,2는 빼기,3은 곱하기\n",
        "  if k == 1:\n",
        "     op = '+'\n",
        "  elif k== 2:\n",
        "     op = '-'\n",
        "  else:\n",
        "     op = '*'\n",
        "\n",
        "  q_text = str(a) + op + str(b) # a,b값을 문자로 변환하여 문제를 만들어 반환값 q_text에 넣습니다\n",
        "  return q_text                 # 함수값을 return합니다 \n",
        "\n",
        "#정답/오답 저장 변수 초기화\n",
        "cor_num = 0\n",
        "incor_num = 0\n",
        "\n",
        "\n",
        "for x in range (5):    # 다섯번 반복 \n",
        "  q_text = make_quiz()  # 문제만드는 함수 호출\n",
        "  print(q_text)         #연산식 출력\n",
        "  ans = input('=')      #사용자에게 정답을 입력받습니다\n",
        "  in_ans = int(ans)     #입력값은 문자형식이라 정수형으로 강제변환합니다 \n",
        "\n",
        "  # 문제의 값과 사용자 입력값을 비교해 정답/오답 횟수를 계산합니다\n",
        "  if eval(q_text) == in_ans:  \n",
        "    print(ans , ' 정답입니다')\n",
        "    cor_num +=1\n",
        "  else:\n",
        "    print(ans , ' 오답입니다')\n",
        "    incor_num +=1\n",
        "\n",
        "print('정답 :',cor_num ,'오답 : ', incor_num )\n",
        "\n",
        "\n",
        "\n"
      ],
      "execution_count": null,
      "outputs": [
        {
          "output_type": "stream",
          "text": [
            "20-43\n",
            "20-43\n",
            "=-23\n",
            "-23  정답입니다\n",
            "34+12\n",
            "34+12\n",
            "=46\n",
            "46  정답입니다\n",
            "50-45\n",
            "50-45\n",
            "=5\n",
            "5  정답입니다\n",
            "34+25\n",
            "34+25\n",
            "=59\n",
            "59  정답입니다\n",
            "36+35\n",
            "36+35\n",
            "=71\n",
            "71  정답입니다\n",
            "정답 : 5 오답 :  0\n"
          ],
          "name": "stdout"
        }
      ]
    }
  ]
}