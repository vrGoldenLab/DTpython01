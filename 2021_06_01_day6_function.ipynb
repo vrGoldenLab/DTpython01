{
  "nbformat": 4,
  "nbformat_minor": 0,
  "metadata": {
    "colab": {
      "name": "2021-06-01-day6-function.ipynb",
      "private_outputs": true,
      "provenance": [],
      "collapsed_sections": [],
      "toc_visible": true,
      "authorship_tag": "ABX9TyPXY7tx5IgB62ArePTb/na6",
      "include_colab_link": true
    },
    "kernelspec": {
      "name": "python3",
      "display_name": "Python 3"
    },
    "language_info": {
      "name": "python"
    }
  },
  "cells": [
    {
      "cell_type": "markdown",
      "metadata": {
        "id": "view-in-github",
        "colab_type": "text"
      },
      "source": [
        "<a href=\"https://colab.research.google.com/github/vrGoldenLab/DTpython01/blob/master/2021_06_01_day6_function.ipynb\" target=\"_parent\"><img src=\"https://colab.research.google.com/assets/colab-badge.svg\" alt=\"Open In Colab\"/></a>"
      ]
    },
    {
      "cell_type": "markdown",
      "metadata": {
        "id": "RrDGbS6PW8jO"
      },
      "source": [
        "# 함수"
      ]
    },
    {
      "cell_type": "markdown",
      "metadata": {
        "id": "a5iZeEh3Lgp1"
      },
      "source": [
        "### import 모듈 가져 오기 \n",
        "\n",
        "> 파이썬에서는 다양한 분야의 처리를 위한 기능을 제공합니다.  \n",
        " \n",
        "\n",
        "모듈 import 방법 \n",
        "``` \n",
        "import 모듈명 # 모듈 불러오기\n",
        "import 모듈명 as 별칭 # 별칭으로 모듈 불러오기\n",
        "from 패키지명 import 모듈명  # 원하는 모듈만 특정해서 불러오기\n",
        "from 모듈명 import 함수명  # 원하는 함수만 특정해서 불러오기\n",
        "``` "
      ]
    },
    {
      "cell_type": "markdown",
      "metadata": {
        "id": "6yNlGxCMLHST"
      },
      "source": [
        "1. 캘린더 기능   \n",
        "month(): 함수에 인수로 년,월을 입력하여 호출하면 캘린더 데이터(문자열)반환  \n",
        "isleap(): 함수에 인수로 년도를 입력하면 bol을 반환"
      ]
    },
    {
      "cell_type": "code",
      "metadata": {
        "id": "q0CW7kAfWxk_"
      },
      "source": [
        "import random\n",
        "list_data = [1,2,3,4,5]\n",
        "random.choice(list_data)"
      ],
      "execution_count": null,
      "outputs": []
    },
    {
      "cell_type": "code",
      "metadata": {
        "id": "agFxVnuv9g7Y"
      },
      "source": [
        "from random import choice\n",
        "list_data = [1,2,3,4,5]\n",
        "choice(list_data)"
      ],
      "execution_count": null,
      "outputs": []
    },
    {
      "cell_type": "code",
      "metadata": {
        "id": "td1yqMRGvGDm"
      },
      "source": [
        "import calendar  # calendar 모듈 import\n",
        "print(calendar.month(2021,5)) # 달력 년월을 지정 출력"
      ],
      "execution_count": null,
      "outputs": []
    },
    {
      "cell_type": "code",
      "metadata": {
        "id": "P24NJcqShxbg"
      },
      "source": [
        "from calendar import month  \n",
        "print(month(2021,5)) # 달력 년월을 지정 출력"
      ],
      "execution_count": null,
      "outputs": []
    },
    {
      "cell_type": "markdown",
      "metadata": {
        "id": "NumBqlj6bCmO"
      },
      "source": [
        "* 경과한 날짜 수 확인 \n",
        "임의의 날짜에서 다른 임의의 날짜까지의 경과일 계산"
      ]
    },
    {
      "cell_type": "code",
      "metadata": {
        "id": "xiLs2fuSbTKs"
      },
      "source": [
        "import datetime \n",
        "\n",
        "date1 = datetime.date.today()\n",
        "date2 = datetime.date(2000,1,1)\n",
        "print(date1-date2)"
      ],
      "execution_count": null,
      "outputs": []
    },
    {
      "cell_type": "code",
      "metadata": {
        "id": "7aaqHnBRjMfa"
      },
      "source": [
        "import random\n",
        "a = random.random() # Random float x, 0.0 <= x < 1.0\n",
        "\n",
        "#2개의 숫자 사이의 랜덤 실수를 리턴합니다.\n",
        "b = random.uniform(1, 10) # Random float x, 1.0 <= x < 10.0\n",
        "\n",
        "\n",
        "#2개의 숫자 사이의 랜덤 정수를 리턴합니다. (2번째 인자로 넘어온 정수도 범위에 포함시킴)\n",
        "c =random.randint(1, 10) # Integer from 1 to 10, endpoints included\n",
        "\n",
        "\n",
        "#range(start, stop, step) 함수로 만들어지는 정수 중에 하나를 랜덤하게 리턴합니다.\n",
        "d=random.randrange(0, 101, 2)  # Even integer from 0 to 100\n",
        "\n",
        "#choice() 함수 랜덤하게 하나의 원소를 선택합니다.\n",
        "e = random.choice('abcdefghij') # Choose a random element \n",
        "f = random.choice(['가위','바위','보'])\n",
        "a = ['가위','바위','보']\n",
        "random.shuffle(a)\n",
        "print(a)\n",
        "\n",
        "print(a,b,c,d,e,f)"
      ],
      "execution_count": null,
      "outputs": []
    },
    {
      "cell_type": "markdown",
      "metadata": {
        "id": "-dKMi79WdAYG"
      },
      "source": [
        "## 함수정의 "
      ]
    },
    {
      "cell_type": "markdown",
      "metadata": {
        "id": "6_1-epGfJvIb"
      },
      "source": [
        "#### 파이썬에서 함수 구현\n",
        "* 함수 정의 키워드 def()\n",
        "       def 함수명(매개변수);\n",
        "              함수가 수행할 일\n",
        "              return 함수가 반환할 객체"
      ]
    },
    {
      "cell_type": "code",
      "metadata": {
        "id": "hmD6GiLJc2-6"
      },
      "source": [
        "def say_hello():\n",
        "    print('안녕하세요!!')\n",
        "    print('파이썬의 세계에 오신 것을 환영합니다.')\n",
        "    print('즐거운 시간 되세요!!')\n",
        "say_hello()"
      ],
      "execution_count": null,
      "outputs": []
    },
    {
      "cell_type": "code",
      "metadata": {
        "id": "va2TpguUdyNy"
      },
      "source": [
        "#인수전달\n",
        "def say_hello(name1,name2):\n",
        "    print(f'안녕하세요, {name1},{name2}!!')\n",
        "    print('파이썬의 세계에 오신 것을 환영합니다.')\n",
        "    print('즐거운 시간 되세요!!')\n",
        "say_hello('홍길동','홍자매')"
      ],
      "execution_count": null,
      "outputs": []
    },
    {
      "cell_type": "code",
      "metadata": {
        "id": "bOVH-Zh0eNZw"
      },
      "source": [
        "# 원의 넓이\n",
        "def circle_area(radius):\n",
        "    area = 3.14 * radius ** 2\n",
        "    return area\n",
        "circle_area(5)"
      ],
      "execution_count": null,
      "outputs": []
    },
    {
      "cell_type": "code",
      "metadata": {
        "id": "kp5GE1MaG-0D"
      },
      "source": [
        "# 원의 넓이\n",
        "def circle_area(radius):\n",
        "    area = 3.14 * radius ** 2\n",
        "    return area\n",
        "a= circle_area(5)"
      ],
      "execution_count": null,
      "outputs": []
    },
    {
      "cell_type": "code",
      "metadata": {
        "id": "57C0dPOIerjK"
      },
      "source": [
        "# 두수를 더하여 반환\n",
        "def get_plus(num1,num2):\n",
        "    result = num1 + num2\n",
        "    return result\n",
        "get_plus(1,2)"
      ],
      "execution_count": null,
      "outputs": []
    },
    {
      "cell_type": "code",
      "metadata": {
        "id": "zbrF9LeufIlU"
      },
      "source": [
        "# 두수를 더한 값과 뺀 값을  반환\n",
        "def get_plus_minus(num1,num2):\n",
        "    plus = num1 + num2\n",
        "    minus = num1 - num2\n",
        "    if num2 == 0:\n",
        "        aaaaa\n",
        "    return plus,minus\n",
        "a = 0\n",
        "b = 3\n",
        "if a != 0:\n",
        "    get_plus_minus(b,a)"
      ],
      "execution_count": null,
      "outputs": []
    },
    {
      "cell_type": "code",
      "metadata": {
        "id": "h8luIaSAKCql"
      },
      "source": [
        "def get_div(num1, num2):\n",
        "    result = 0\n",
        "    if num2 == 0:\n",
        "        print('다른 수 입력하세요')\n",
        "    else:\n",
        "        result = num1/num2\n",
        "        return result\n",
        "\n",
        "get_div(2, 0)\n"
      ],
      "execution_count": null,
      "outputs": []
    },
    {
      "cell_type": "markdown",
      "metadata": {
        "id": "R7ZD9UlRhRkN"
      },
      "source": [
        "### 전역변수"
      ]
    },
    {
      "cell_type": "code",
      "metadata": {
        "id": "-o_7NUHOgqN4"
      },
      "source": [
        "# 함수내 변수를 밖에서 사용 못함\n",
        "def get_plus_minus(num1,num2):\n",
        "    plus = num1 + num2\n",
        "    minus = num1 - num2\n",
        "    return plus,minus\n",
        "get_plus_minus(1,2)\n",
        "print(plus,minus)"
      ],
      "execution_count": null,
      "outputs": []
    },
    {
      "cell_type": "code",
      "metadata": {
        "id": "wvFAYHUVf1T_"
      },
      "source": [
        "# 전역변수 - 함수밖에서 생성\n",
        "def circle_area():\n",
        "    area = 3.14 * radius ** 2\n",
        "    return area\n",
        "radius = float(input('반지름:'))\n",
        "circle_area()"
      ],
      "execution_count": null,
      "outputs": []
    },
    {
      "cell_type": "markdown",
      "metadata": {
        "id": "UKR8-IKdhYyp"
      },
      "source": [
        "### 함수내 전역변수 변경 "
      ]
    },
    {
      "cell_type": "code",
      "metadata": {
        "id": "xYKs0doThc3a"
      },
      "source": [
        "def circle_area():\n",
        "    area = 3.14 * radius ** 2\n",
        "    return area\n",
        "area = 0\n",
        "radius = float(input('반지름:'))\n",
        "print('원의 넓이:',circle_area())\n",
        "print(area) #변경안됨"
      ],
      "execution_count": null,
      "outputs": []
    },
    {
      "cell_type": "code",
      "metadata": {
        "id": "QUvzv3YricBe"
      },
      "source": [
        "def circle_area():\n",
        "    global area\n",
        "    area = 3.14 * radius ** 2\n",
        "    return area\n",
        "area = 0\n",
        "radius = float(input('반지름:'))\n",
        "print('원의 넓이:',circle_area())\n",
        "print(area) #변경"
      ],
      "execution_count": null,
      "outputs": []
    },
    {
      "cell_type": "markdown",
      "metadata": {
        "id": "0fGAcZpniskE"
      },
      "source": [
        "### 디폴트 인수"
      ]
    },
    {
      "cell_type": "code",
      "metadata": {
        "id": "tjDpc4QXivKI"
      },
      "source": [
        "def greet(name,msg):\n",
        "    print(f'안녕 {name},{msg}')\n",
        "greet('철수','좋은 아침이야')"
      ],
      "execution_count": null,
      "outputs": []
    },
    {
      "cell_type": "code",
      "metadata": {
        "id": "MCmSlP8IjL6q"
      },
      "source": [
        "# greet() missing 1 required positional argument: 'msg'\n",
        "def greet(name,msg):\n",
        "    print(f'안녕 {name},{msg}')\n",
        "greet('철수')"
      ],
      "execution_count": null,
      "outputs": []
    },
    {
      "cell_type": "code",
      "metadata": {
        "id": "QK33z-7Yjc1C"
      },
      "source": [
        "# 인수 부족 시 기본값 사용\n",
        "def greet(name='친구',msg='잘 지내니?'):\n",
        "    print(f'안녕 {name},{msg}')\n",
        "greet('영희','오랜만이야')"
      ],
      "execution_count": null,
      "outputs": []
    },
    {
      "cell_type": "code",
      "metadata": {
        "id": "luck3G00jtdL"
      },
      "source": [
        "# 인수 부족 시 기본값 사용\n",
        "def greet(name='친구',msg='잘 지내니?'):\n",
        "    print(f'안녕 {name},{msg}')\n",
        "greet('영희')"
      ],
      "execution_count": null,
      "outputs": []
    },
    {
      "cell_type": "code",
      "metadata": {
        "id": "kVfL8h7mj8T4"
      },
      "source": [
        "# 인수 부족 시 기본값 사용\n",
        "def greet(name='친구',msg='잘 지내니?'):\n",
        "    print(f'안녕 {name},{msg}')\n",
        "greet()"
      ],
      "execution_count": null,
      "outputs": []
    },
    {
      "cell_type": "code",
      "metadata": {
        "id": "7K_H1_fmPjb_"
      },
      "source": [
        ""
      ],
      "execution_count": null,
      "outputs": []
    },
    {
      "cell_type": "markdown",
      "metadata": {
        "id": "bpSsoMrskDQv"
      },
      "source": [
        "### 키워드 인수"
      ]
    },
    {
      "cell_type": "code",
      "metadata": {
        "id": "XGv_ZLQSkIZV"
      },
      "source": [
        "def calc(x,y,z):\n",
        "    result = x+y-z\n",
        "    return result\n",
        "calc(1,z=5,y=3)"
      ],
      "execution_count": null,
      "outputs": []
    },
    {
      "cell_type": "code",
      "metadata": {
        "id": "Z7WBE1Cgki-_"
      },
      "source": [
        "def calc(x,y,z):\n",
        "    result = x+y-z\n",
        "    return result\n",
        "calc(x=1,z=5,y=3)"
      ],
      "execution_count": null,
      "outputs": []
    },
    {
      "cell_type": "code",
      "metadata": {
        "id": "N3lsgsktkpOh"
      },
      "source": [
        "# positional argument follows keyword argument\n",
        "def calc(x,y,z):\n",
        "    result = x,y,z\n",
        "    return result\n",
        "calc(x=1,5,y=3)"
      ],
      "execution_count": null,
      "outputs": []
    },
    {
      "cell_type": "code",
      "metadata": {
        "id": "OpFRwC-DTKIQ"
      },
      "source": [
        "# 오류는 아니고 순서를 변경해서 인수값을 지정해도 해당인수에 지정값이 들어가네용 ?.? \n",
        "def calc(a,b,c=3):\n",
        "    result = a+b-c\n",
        "    return result\n",
        "calc(b=1,a=5,c=3)\n",
        "calc(b=1,a=5)\n",
        "# calc(b=1,5,a=3)\n",
        "calc(1,c=5,a=3)\n",
        "결과값 : -1\n"
      ],
      "execution_count": null,
      "outputs": []
    },
    {
      "cell_type": "markdown",
      "metadata": {
        "id": "D1pVhnrfky_x"
      },
      "source": [
        "### 매개변수 *args"
      ]
    },
    {
      "cell_type": "code",
      "metadata": {
        "id": "4AEnrFrCm_fo"
      },
      "source": [
        "# 매개변수 개수 가변적일때 사용. \n",
        "def average(*args):\n",
        "    print(args)\n",
        "    avrg1 = sum(args) /len(args)\n",
        "    return avrg1\n",
        "print(average(1,2,3))\n",
        "print(average(1,2,3,4,5))"
      ],
      "execution_count": null,
      "outputs": []
    },
    {
      "cell_type": "code",
      "metadata": {
        "id": "t3r7sTkFk5bJ"
      },
      "source": [
        "# 매개변수 개수 가변적일때 사용. \n",
        "def average(*a):\n",
        "    avrg1 = sum(a) /len(a)\n",
        "    return avrg1\n",
        "print(average(1,2,3))\n",
        "print(average(1,2,3,4,5))"
      ],
      "execution_count": null,
      "outputs": []
    },
    {
      "cell_type": "markdown",
      "metadata": {
        "id": "7AY1ZSnHmmZH"
      },
      "source": [
        "# 추가 예제"
      ]
    },
    {
      "cell_type": "markdown",
      "metadata": {
        "id": "7xoRSiWpnIIF"
      },
      "source": [
        "### 예제 -소수여부 판단"
      ]
    },
    {
      "cell_type": "code",
      "metadata": {
        "id": "N3gVbPY4nPCP"
      },
      "source": [
        "def is_prime(num):\n",
        "    #소수여부 \n",
        "    #소수 True ,아니면 False\n",
        "    if num < 2:\n",
        "        return False\n",
        "    for i in range(2,num):\n",
        "        # print(i,num)\n",
        "        if num % i == 0:\n",
        "            return False\n",
        "    return True\n",
        "i_num = int(input('숫자:'))\n",
        "if is_prime(i_num):\n",
        "    print('소수입니다')\n",
        "else:\n",
        "    print('소수가 아닙니다')"
      ],
      "execution_count": null,
      "outputs": []
    },
    {
      "cell_type": "markdown",
      "metadata": {
        "id": "xluy6-nJpeP-"
      },
      "source": [
        "### 예제 - 오늘의 메뉴"
      ]
    },
    {
      "cell_type": "code",
      "metadata": {
        "id": "cBAUvlIGpk3P"
      },
      "source": [
        "def today_menu(*menu):\n",
        "    for i in menu:\n",
        "        print(i)\n",
        "print('===오늘의 메뉴====')\n",
        "today_menu('김밥','떡볶이','오뎅')\n"
      ],
      "execution_count": null,
      "outputs": []
    },
    {
      "cell_type": "code",
      "metadata": {
        "id": "iXBV0OJ7qY4A"
      },
      "source": [
        "def today_menu(*menu):\n",
        "    for i in range(len(menu)):\n",
        "        print(menu[i])\n",
        "print('===오늘의 메뉴====')\n",
        "today_menu('김밥','떡볶이','오뎅','짜장면')\n"
      ],
      "execution_count": null,
      "outputs": []
    },
    {
      "cell_type": "code",
      "metadata": {
        "id": "t5mKQ8H99T2p"
      },
      "source": [
        ""
      ],
      "execution_count": null,
      "outputs": []
    },
    {
      "cell_type": "markdown",
      "metadata": {
        "id": "uM77rYTF9TWp"
      },
      "source": [
        "### lambda()함수"
      ]
    },
    {
      "cell_type": "code",
      "metadata": {
        "id": "H42Jln4P5WeW"
      },
      "source": [
        "# lambda() 함수\n",
        "def plus(num1,num2):\n",
        "    result = num1 +num2\n",
        "    return result\n",
        "print(plus(10,20))\n",
        "\n"
      ],
      "execution_count": null,
      "outputs": []
    },
    {
      "cell_type": "code",
      "metadata": {
        "id": "1Ii5sMZomqUv"
      },
      "source": [
        "plus = lambda num1,num2: num1+num2\n",
        "print(plus(10,20))"
      ],
      "execution_count": null,
      "outputs": []
    },
    {
      "cell_type": "markdown",
      "metadata": {
        "id": "TaU6Sh5C9gZm"
      },
      "source": [
        "\n",
        "### map()함수\n",
        "\n"
      ]
    },
    {
      "cell_type": "code",
      "metadata": {
        "id": "HXA3c8Dj6xkd"
      },
      "source": [
        "plus = lambda num1,num2: num1+num2\n",
        "print(plus(10,20))"
      ],
      "execution_count": null,
      "outputs": []
    },
    {
      "cell_type": "code",
      "metadata": {
        "id": "UDUfQdkVoeob"
      },
      "source": [
        "plus = lambda num1,num2: num1+num2\n",
        "print(plus(10,20))"
      ],
      "execution_count": null,
      "outputs": []
    },
    {
      "cell_type": "code",
      "metadata": {
        "id": "iXPwCfRs70rO"
      },
      "source": [
        "# map() 함수\n",
        "mylist = [1,2,3,4,5]\n",
        "mylist = list(map(lambda num: num+10,mylist))\n",
        "print(mylist)"
      ],
      "execution_count": null,
      "outputs": []
    },
    {
      "cell_type": "code",
      "metadata": {
        "id": "FzIjGwS8oj6_"
      },
      "source": [
        "# map() 함수\n",
        "mylist = (1,2,3,4,5)\n",
        "mylist = set(map(lambda num: num+10,mylist))\n",
        "print(mylist)"
      ],
      "execution_count": null,
      "outputs": []
    },
    {
      "cell_type": "markdown",
      "metadata": {
        "id": "7QLqSYo69lvR"
      },
      "source": [
        "### 재귀함수()"
      ]
    },
    {
      "cell_type": "code",
      "metadata": {
        "id": "vP4LdAda9psc"
      },
      "source": [
        "# 함수내에서 함수 호출 \n",
        "def hello(count):\n",
        "    if count == 0:    # 종료 조건을 만듦. count가 0이면 다시 hello 함수를 호출하지 않고 끝냄\n",
        "        return\n",
        "    \n",
        "    print('Hello, world!', count)\n",
        "    \n",
        "    count -= 1      # count를 1 감소시킨 뒤\n",
        "    hello(count)    # 다시 hello에 넣음\n",
        " \n",
        "hello(100)    # hello 함수 호출"
      ],
      "execution_count": null,
      "outputs": []
    },
    {
      "cell_type": "code",
      "metadata": {
        "id": "SbuUD6Xc-uKz"
      },
      "source": [
        "def factorial(n):\n",
        "    if n == 1:      # n이 1일 때\n",
        "        return 1    # 1을 반환하고 재귀호출을 끝냄\n",
        "    print(n)\n",
        "    return n * factorial(n - 1)    # n과 factorial 함수에 n - 1을 넣어서 반환된 값을 곱함\n",
        " \n",
        "print(factorial(5))"
      ],
      "execution_count": null,
      "outputs": []
    },
    {
      "cell_type": "markdown",
      "metadata": {
        "id": "MCnF2rSCqvfU"
      },
      "source": [
        "### 예제 - 편의점 재고 관리"
      ]
    },
    {
      "cell_type": "code",
      "metadata": {
        "id": "FxExu__Yore9"
      },
      "source": [
        "#step1 전체구조\n",
        "#재고 등록,판매,확인 함수를 추가하도록 합니다\n",
        "while True:\n",
        "    print('    ===================재고관리 시스템 ======================     ')\n",
        "    print('    1: 재고등록  2: 제품판매    4:재고 확인   0: 프로그램 종료    ')\n",
        "\n",
        "    menu = input('메뉴를 입력하세요:')\n",
        "    if menu == '0': #문자열\n",
        "        break"
      ],
      "execution_count": null,
      "outputs": []
    },
    {
      "cell_type": "code",
      "metadata": {
        "id": "caYv61jRq2CB"
      },
      "source": [
        "#step2 재고 등록\n",
        "inventory = {'삼각김밥':10,'커피우유':10} #초기재고\n",
        "def add_product():\n",
        "    while True:\n",
        "        product = input('상품명:')\n",
        "        if product == '':\n",
        "            break\n",
        "        num = int(input('갯수:'))\n",
        "        if product in inventory.keys():\n",
        "            inventory[product] += num\n",
        "        else:\n",
        "            inventory[product] = num\n",
        "    print('-'*50)\n",
        "    for key,value in inventory.items():\n",
        "        print(key,':',value)\n",
        "add_product()    "
      ],
      "execution_count": null,
      "outputs": []
    },
    {
      "cell_type": "code",
      "metadata": {
        "id": "45Q6hgq_rX-e"
      },
      "source": [
        "#step3 제품판매\n",
        "def sel_product():\n",
        "    while True:\n",
        "        product = input('상품명:')\n",
        "        if product == '':\n",
        "            break\n",
        "        num = int(input('갯수:'))\n",
        "        if inventory[product] < num:\n",
        "            print('재고가 부족합니다')\n",
        "        else:\n",
        "            inventory[product] -= num\n",
        "            print(inventory[product],'개 남았습니다')\n",
        "sel_product()"
      ],
      "execution_count": null,
      "outputs": []
    },
    {
      "cell_type": "code",
      "metadata": {
        "id": "vV49TqRuofsz"
      },
      "source": [
        "#step3 재고확인 \n",
        "def search_product():\n",
        "    while True:\n",
        "        product = input('상품명:')\n",
        "        if product == '':\n",
        "            break\n",
        "        print(inventory.get(product,'등록되지 않은 상품'))\n",
        "search_product()"
      ],
      "execution_count": null,
      "outputs": []
    },
    {
      "cell_type": "code",
      "metadata": {
        "id": "HJFqaCl1xnjM"
      },
      "source": [
        "#step1 전체구조\n",
        "while True:\n",
        "    print('    ===================재고관리 시스템 ======================     ')\n",
        "    print('    1: 재고등록  2: 제품판매    4:재고 확인   0: 프로그램 종료    ')\n",
        "\n",
        "    menu = input('메뉴를 입력하세요:')\n",
        "    if menu == '0': #문자열\n",
        "        break\n",
        "    elif menu == '1': \n",
        "        add_product()\n",
        "    elif menu == '2': \n",
        "        sel_product()\n",
        "    elif menu == '3': \n",
        "        search_product()"
      ],
      "execution_count": null,
      "outputs": []
    },
    {
      "cell_type": "code",
      "metadata": {
        "id": "P6XgPqCmwepf"
      },
      "source": [
        "# step 합치기\n",
        "# 재고 등록\n",
        "def add_product():\n",
        "    while True:\n",
        "        product = input('상품명:')\n",
        "        if product == '':\n",
        "            break\n",
        "        num = int(input('갯수:'))\n",
        "        if product in inventory.keys():\n",
        "            inventory[product] += num\n",
        "        else:\n",
        "            inventory[product] = num\n",
        "        \n",
        "    print('-'*50)\n",
        "    for key,value in inventory.items():\n",
        "        print(key,':',value)\n",
        "\n",
        "# 제품 판매\n",
        "def sel_product():\n",
        "    while True:\n",
        "        product = input('상품명:')\n",
        "        if product == '':\n",
        "            break\n",
        "        num = int(input('갯수:'))\n",
        "        if inventory[product] < num:\n",
        "            print('재고가 부족합니다')\n",
        "        else:\n",
        "            inventory[product] -= num\n",
        "            print(inventory[product],'개 남았습니다')\n",
        "\n",
        "# 재고확인 \n",
        "def search_product():\n",
        "    while True:\n",
        "        product = input('상품명:')\n",
        "        if product == '':\n",
        "            break\n",
        "        print(inventory.get(product,'등록되지 않은 상품'))\n",
        "\n",
        "# 전체구조\n",
        "inventory = {'삼각김밥':10,'커피우유':10} #초기재고\n",
        "while True:\n",
        "    print('    ===================재고관리 시스템 ======================     ')\n",
        "    print('    1: 재고등록  2: 제품판매    4:재고 확인   0: 프로그램 종료    ')\n",
        "\n",
        "    menu = input('메뉴를 입력하세요:')\n",
        "    if menu == '0': #문자열\n",
        "        break\n",
        "    elif menu == '1': \n",
        "        add_product()\n",
        "    elif menu == '2': \n",
        "        sel_product()\n",
        "    elif menu == '3': \n",
        "        search_product()"
      ],
      "execution_count": null,
      "outputs": []
    },
    {
      "cell_type": "code",
      "metadata": {
        "id": "KjnBAt4J4lLv"
      },
      "source": [
        "# 테스트 수정 \n",
        "# 재고 등록\n",
        "def add_product():\n",
        "    while True:\n",
        "        product = input('상품명:')\n",
        "        if product == '':\n",
        "            break\n",
        "        num = int(input('갯수:'))\n",
        "        if product in inventory.keys():\n",
        "            inventory[product] += num\n",
        "        else:\n",
        "            inventory[product] = num\n",
        "        \n",
        "    print('-'*50)\n",
        "    for key,value in inventory.items():\n",
        "        print(key,':',value)\n",
        "\n",
        "# 제품 판매\n",
        "def sel_product():\n",
        "    while True:\n",
        "        product = input('상품명:')\n",
        "        if product == '':\n",
        "            break\n",
        "        # 추가 조건문\n",
        "        if inventory.get(product,'미등록') == '미등록':\n",
        "            print('등록되지 않은 상품입니다')\n",
        "            break \n",
        "        # if product not in inventory.keys():\n",
        "        #     print('등록되지 않은 상품입니다')\n",
        "        #     break \n",
        "        num = int(input('갯수:'))\n",
        "        if inventory[product] < num:\n",
        "            print('재고가 부족합니다')\n",
        "        else:\n",
        "            inventory[product] -= num\n",
        "            print(inventory[product],'개 남았습니다')\n",
        "           \n",
        "\n",
        "# 재고확인 \n",
        "def search_product():\n",
        "    while True:\n",
        "        product = input('상품명:')\n",
        "        if product == '':\n",
        "            break\n",
        "        print(inventory.get(product,'등록되지 않은 상품'))\n",
        "\n",
        "# 전체구조\n",
        "inventory = {'삼각김밥':10,'커피우유':10} #초기재고\n",
        "while True:\n",
        "    print('    ===================재고관리 시스템 ======================     ')\n",
        "    print('    1: 재고등록  2: 제품판매    4:재고 확인   0: 프로그램 종료    ')\n",
        "\n",
        "    menu = input('메뉴를 입력하세요:')\n",
        "    if menu == '0': #문자열\n",
        "        break\n",
        "    elif menu == '1': \n",
        "        add_product()\n",
        "    elif menu == '2': \n",
        "        sel_product()\n",
        "    elif menu == '3': \n",
        "        search_product()"
      ],
      "execution_count": null,
      "outputs": []
    },
    {
      "cell_type": "markdown",
      "metadata": {
        "id": "Hwb8HuBnkcLw"
      },
      "source": [
        "### 예제 - 주사위 게임 "
      ]
    },
    {
      "cell_type": "code",
      "metadata": {
        "id": "td58xoCnugaj"
      },
      "source": [
        "# 프로그램 구성 \n",
        "import random\n",
        "# 초기 변수값 - 내 주사위 위치 ,컴퓨터 주사위 위치\n",
        "\n",
        "# 주사위말 함수 - 30까지 주사위 위치 표현\n",
        "\n",
        "# 시작시 출력화면 구성 - 게임 스타트\n",
        "\n",
        "while True:\n",
        "    input(\"Enter를 누르면 여러분의 말이 움직입니다\")\n",
        "    # 내 주사위수 계산 ,승패 체크\n",
        "    input(\"Enter를 누르면 컴퓨터의 말이 움직입니다\")\n",
        "    # 컴푸터 주사위 수 계산,승패 체크"
      ],
      "execution_count": null,
      "outputs": []
    },
    {
      "cell_type": "code",
      "metadata": {
        "id": "pLW_DYeStgGs"
      },
      "source": [
        "# step1 함수 구성 \n",
        "import random\n",
        "pl_pos = 1\n",
        "com_pos = 1\n",
        "\n",
        "def board():\n",
        "    print(\"-\" * (pl_pos - 1) + \"Ｐ\" + \"-\" * (30 - pl_pos) + \"Goal\")\n",
        "    print(\"-\" * (com_pos - 1) + \"Ｃ\" + \"-\" * (30 - com_pos) + \"Goal\")\n",
        "\n",
        "board()\n",
        "print(\"주사위 게임, 스타트!\")"
      ],
      "execution_count": null,
      "outputs": []
    },
    {
      "cell_type": "code",
      "metadata": {
        "id": "eYkjOChKkiBV"
      },
      "source": [
        "import random\n",
        "pl_pos = 1\n",
        "com_pos = 1\n",
        "\n",
        "def board():\n",
        "    print(\"-\" * (pl_pos - 1) + \"Ｐ\" + \"-\" * (30 - pl_pos) + \"Goal\")\n",
        "    print(\"-\" * (com_pos - 1) + \"Ｃ\" + \"-\" * (30 - com_pos) + \"Goal\")\n",
        "\n",
        "board()\n",
        "print(\"주사위 게임, 스타트!\")\n",
        "while True:\n",
        "    input(\"Enter를 누르면 여러분의 말이 움직입니다\")\n",
        "    pl_pos = pl_pos + random.randint(1, 6)\n",
        "    if pl_pos > 30:\n",
        "        pl_pos = 30\n",
        "    board()\n",
        "    if pl_pos == 30:\n",
        "        print(\"당신이 승리했습니다！\")\n",
        "        break\n",
        "    input(\"Enter를 누르면 컴퓨터의 말이 움직입니다\")\n",
        "    com_pos = com_pos + random.randint(1, 6)\n",
        "    if com_pos > 30:\n",
        "        com_pos = 30\n",
        "    board()\n",
        "    if com_pos == 30:\n",
        "        print(\"컴퓨터가 승리했습니다!\")\n",
        "        break"
      ],
      "execution_count": null,
      "outputs": []
    },
    {
      "cell_type": "markdown",
      "metadata": {
        "id": "NvCOFxlw5fwR"
      },
      "source": [
        "### lambda 사용 - 문자열로 딕셔너리 만들기"
      ]
    },
    {
      "cell_type": "markdown",
      "metadata": {
        "id": "HwwgSf-H4uhy"
      },
      "source": [
        "참조> ord()\n",
        "ord() 함수는 문자에 해당하는 코드값을 알려줍니다."
      ]
    },
    {
      "cell_type": "code",
      "metadata": {
        "id": "2Rb-YQh_44Sv"
      },
      "source": [
        "print(ord('A'),ord('Z'),ord('a'),ord('z'))\n"
      ],
      "execution_count": null,
      "outputs": []
    },
    {
      "cell_type": "markdown",
      "metadata": {
        "id": "zCvAit4r6PSz"
      },
      "source": [
        "split()은 공백을 기준으로 문자열을 분리한 것들을 리스트에 넣어 반환합니다"
      ]
    },
    {
      "cell_type": "code",
      "metadata": {
        "id": "gyyAR1A25dIk"
      },
      "source": [
        "love = '''L is for the way you look at me\n",
        "O is for the only one I see\n",
        "V is very, very extraordinary\n",
        "E is even more than anyone that you adore can'''\n",
        "love.split('\\n')"
      ],
      "execution_count": null,
      "outputs": []
    },
    {
      "cell_type": "code",
      "metadata": {
        "id": "PAzoY-SI21CP"
      },
      "source": [
        "# txt를 읽어 한국어와 영어 명칭을 각각 키와 값으로 갖는 딕셔너리를 생성하는 코드를 작성하세요.\n",
        "# https://github.com/sk8erchoi/wikidocs-chobo-python/blob/master/ch04/mental_disorders.py 코드 \n",
        "\n",
        "txt = '''신경발달장애 Neurodevelopmental Disorders\n",
        "조현병 스펙트럼 및 기타 정신병적 장애 Schizophrenia Spectrum and Other Psychotic Disorders\n",
        "양극성 및 관련 장애 Bipolar and Related Disorders\n",
        "우울장애 Depressive Disorders\n",
        "불안장애 Anxiety Disorder\n",
        "강박 및 관련 장애 Obsessive－Compulsive and Related Disorders\n",
        "외상 및 스트레스 관련 장애 Trauma－and Stressor－Related Disorders\n",
        "해리장애 Dissociative Disorders\n",
        "신체증상 및 관련 장애 Somatic Symptom and Related Disorders\n",
        "급식 및 섭식장애 Feeding and Eating Disorders\n",
        "배설장애 Elimination Disorders\n",
        "수면－각성 장애 Sleep－Wake Disorders\n",
        "성기능부전 Sexual Dysfunctions\n",
        "성별 불쾌감 Gender Dysphoria\n",
        "파괴적, 충동조절 및 품행 장애 Disruptive, Impulse－Control, and Conduct Disorders\n",
        "물질관련 및 중독 장애 Substance－Related and Addictive Disorders\n",
        "신경인지장애 Neurocognitive Disorders\n",
        "성격장애 Personality Disorders\n",
        "변태성욕장애 Paraphilic Disorders\n",
        "기타 정신질환 Other Mental Disorders'''\n",
        "\n",
        "disorders = dict()\n",
        "\n",
        "is_eng = lambda x: 65 <= ord(x) <= 90 or 97 <= ord(x) <= 122\n",
        "\n",
        "for li in txt.split('\\n'):\n",
        "    i = 0\n",
        "    while not is_eng(li[i]):\n",
        "        i += 1\n",
        "    else:\n",
        "        ko, en = li[:i - 1], li[i:]\n",
        "        disorders[ko] = en\n",
        "\n",
        "print(disorders)\n"
      ],
      "execution_count": null,
      "outputs": []
    },
    {
      "cell_type": "code",
      "metadata": {
        "id": "PaY1G3lGcy3D"
      },
      "source": [
        "alist = {\n",
        "    '키1':['값1', '값2'], \n",
        "    '키2':['값3', '값4'], \n",
        "    '키3':['값5', '값6'],\n",
        "    '키4':{'키':100}}\n",
        "print(list(alist['키1']))\n",
        "print(alist['키4']['키'])"
      ],
      "execution_count": null,
      "outputs": []
    },
    {
      "cell_type": "code",
      "metadata": {
        "id": "eKmI0p13fCcb"
      },
      "source": [
        "text = '문자열 나누기'\n",
        "li = text.split(sep=' ')\n",
        "li"
      ],
      "execution_count": null,
      "outputs": []
    },
    {
      "cell_type": "code",
      "metadata": {
        "id": "58ExzW8sgUGW"
      },
      "source": [
        "text2 = ' '.join(li)\n",
        "text2"
      ],
      "execution_count": null,
      "outputs": []
    },
    {
      "cell_type": "code",
      "metadata": {
        "id": "BW3CI1y9oIE3"
      },
      "source": [
        "def add(a, b): \n",
        "    print(\"%d, %d의 합은 %d입니다.\" % (a, b, a+b))\n",
        "add(1,2)"
      ],
      "execution_count": null,
      "outputs": []
    },
    {
      "cell_type": "code",
      "metadata": {
        "id": "fj2l2YJVow90"
      },
      "source": [
        "def say(): \n",
        "    return 'Hi' \n",
        "a = say()\n",
        "a"
      ],
      "execution_count": null,
      "outputs": []
    },
    {
      "cell_type": "markdown",
      "metadata": {
        "id": "SVUHk4FXAhjd"
      },
      "source": [
        "## 팀 나이 구하기"
      ]
    },
    {
      "cell_type": "code",
      "metadata": {
        "id": "aBN1qzCZu7cd"
      },
      "source": [
        "alist = {\n",
        "    '1팀':[25,39,29, 27, 22], \n",
        "    '2팀':[27, 24 ,25 ,29 ,25], \n",
        "    '3팀':[25,26,25,23,23,28,27],\n",
        "    '4팀':[21,23,30],\n",
        "    '5팀':[26,41,24,31,21,34,27],\n",
        "    '6팀':[21, 29, 27, 25, 25]}\n",
        "age_li = []\n",
        "for i,v in alist.items():\n",
        "    print(f'{i}의 최저연령은{min(v)} 최고연령은 {max(v)}')\n",
        "    age_li.extend(v)\n",
        "    # print(age_li)\n",
        "print(f'DT스쿨 최저연령은{min(age_li)} 최고연령은 {max(age_li)}')"
      ],
      "execution_count": null,
      "outputs": []
    }
  ]
}